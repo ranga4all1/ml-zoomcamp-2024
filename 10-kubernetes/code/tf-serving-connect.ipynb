{
 "cells": [
  {
   "cell_type": "code",
   "execution_count": 1,
   "id": "e6639ee6-5768-40af-8cf0-367cf2620b17",
   "metadata": {},
   "outputs": [
    {
     "data": {
      "application/javascript": [
       "IPython.notebook.set_autosave_interval(0)"
      ]
     },
     "metadata": {},
     "output_type": "display_data"
    },
    {
     "name": "stdout",
     "output_type": "stream",
     "text": [
      "Autosave disabled\n"
     ]
    }
   ],
   "source": [
    "%autosave 0"
   ]
  },
  {
   "cell_type": "code",
   "execution_count": 2,
   "id": "a3373b31-793d-4953-980e-bc785bcede21",
   "metadata": {},
   "outputs": [
    {
     "name": "stdout",
     "output_type": "stream",
     "text": [
      "Requirement already satisfied: grpcio in /opt/conda/envs/ml-zoomcamp-1/lib/python3.10/site-packages (1.42.0)\n",
      "Collecting tensorflow-serving-api==2.17.0\n",
      "  Using cached tensorflow_serving_api-2.17.0-py2.py3-none-any.whl.metadata (1.8 kB)\n",
      "Collecting protobuf!=4.21.0,!=4.21.1,!=4.21.2,!=4.21.3,!=4.21.4,!=4.21.5,<5.0.0dev,>=3.20.3 (from tensorflow-serving-api==2.17.0)\n",
      "  Using cached protobuf-4.25.5-cp37-abi3-manylinux2014_x86_64.whl.metadata (541 bytes)\n",
      "Collecting tensorflow<3,>=2.17.0 (from tensorflow-serving-api==2.17.0)\n",
      "  Using cached tensorflow-2.18.0-cp310-cp310-manylinux_2_17_x86_64.manylinux2014_x86_64.whl.metadata (4.1 kB)\n",
      "Requirement already satisfied: six>=1.5.2 in /opt/conda/envs/ml-zoomcamp-1/lib/python3.10/site-packages (from grpcio) (1.16.0)\n",
      "Requirement already satisfied: absl-py>=1.0.0 in /opt/conda/envs/ml-zoomcamp-1/lib/python3.10/site-packages (from tensorflow<3,>=2.17.0->tensorflow-serving-api==2.17.0) (2.1.0)\n",
      "Requirement already satisfied: astunparse>=1.6.0 in /opt/conda/envs/ml-zoomcamp-1/lib/python3.10/site-packages (from tensorflow<3,>=2.17.0->tensorflow-serving-api==2.17.0) (1.6.3)\n",
      "Requirement already satisfied: flatbuffers>=24.3.25 in /opt/conda/envs/ml-zoomcamp-1/lib/python3.10/site-packages (from tensorflow<3,>=2.17.0->tensorflow-serving-api==2.17.0) (24.3.25)\n",
      "Requirement already satisfied: gast!=0.5.0,!=0.5.1,!=0.5.2,>=0.2.1 in /opt/conda/envs/ml-zoomcamp-1/lib/python3.10/site-packages (from tensorflow<3,>=2.17.0->tensorflow-serving-api==2.17.0) (0.4.0)\n",
      "Requirement already satisfied: google-pasta>=0.1.1 in /opt/conda/envs/ml-zoomcamp-1/lib/python3.10/site-packages (from tensorflow<3,>=2.17.0->tensorflow-serving-api==2.17.0) (0.2.0)\n",
      "Requirement already satisfied: libclang>=13.0.0 in /opt/conda/envs/ml-zoomcamp-1/lib/python3.10/site-packages (from tensorflow<3,>=2.17.0->tensorflow-serving-api==2.17.0) (18.1.1)\n",
      "Requirement already satisfied: opt-einsum>=2.3.2 in /opt/conda/envs/ml-zoomcamp-1/lib/python3.10/site-packages (from tensorflow<3,>=2.17.0->tensorflow-serving-api==2.17.0) (3.4.0)\n",
      "Requirement already satisfied: packaging in /opt/conda/envs/ml-zoomcamp-1/lib/python3.10/site-packages (from tensorflow<3,>=2.17.0->tensorflow-serving-api==2.17.0) (24.1)\n",
      "Requirement already satisfied: requests<3,>=2.21.0 in /opt/conda/envs/ml-zoomcamp-1/lib/python3.10/site-packages (from tensorflow<3,>=2.17.0->tensorflow-serving-api==2.17.0) (2.32.3)\n",
      "Requirement already satisfied: setuptools in /opt/conda/envs/ml-zoomcamp-1/lib/python3.10/site-packages (from tensorflow<3,>=2.17.0->tensorflow-serving-api==2.17.0) (72.1.0)\n",
      "Requirement already satisfied: termcolor>=1.1.0 in /opt/conda/envs/ml-zoomcamp-1/lib/python3.10/site-packages (from tensorflow<3,>=2.17.0->tensorflow-serving-api==2.17.0) (2.5.0)\n",
      "Requirement already satisfied: typing-extensions>=3.6.6 in /opt/conda/envs/ml-zoomcamp-1/lib/python3.10/site-packages (from tensorflow<3,>=2.17.0->tensorflow-serving-api==2.17.0) (4.11.0)\n",
      "Requirement already satisfied: wrapt>=1.11.0 in /opt/conda/envs/ml-zoomcamp-1/lib/python3.10/site-packages (from tensorflow<3,>=2.17.0->tensorflow-serving-api==2.17.0) (1.17.0)\n",
      "Collecting tensorboard<2.19,>=2.18 (from tensorflow<3,>=2.17.0->tensorflow-serving-api==2.17.0)\n",
      "  Using cached tensorboard-2.18.0-py3-none-any.whl.metadata (1.6 kB)\n",
      "Collecting keras>=3.5.0 (from tensorflow<3,>=2.17.0->tensorflow-serving-api==2.17.0)\n",
      "  Using cached keras-3.7.0-py3-none-any.whl.metadata (5.8 kB)\n",
      "Collecting numpy<2.1.0,>=1.26.0 (from tensorflow<3,>=2.17.0->tensorflow-serving-api==2.17.0)\n",
      "  Using cached numpy-2.0.2-cp310-cp310-manylinux_2_17_x86_64.manylinux2014_x86_64.whl.metadata (60 kB)\n",
      "Requirement already satisfied: h5py>=3.11.0 in /opt/conda/envs/ml-zoomcamp-1/lib/python3.10/site-packages (from tensorflow<3,>=2.17.0->tensorflow-serving-api==2.17.0) (3.12.1)\n",
      "Requirement already satisfied: ml-dtypes<0.5.0,>=0.4.0 in /opt/conda/envs/ml-zoomcamp-1/lib/python3.10/site-packages (from tensorflow<3,>=2.17.0->tensorflow-serving-api==2.17.0) (0.4.1)\n",
      "Requirement already satisfied: tensorflow-io-gcs-filesystem>=0.23.1 in /opt/conda/envs/ml-zoomcamp-1/lib/python3.10/site-packages (from tensorflow<3,>=2.17.0->tensorflow-serving-api==2.17.0) (0.37.1)\n",
      "Requirement already satisfied: wheel<1.0,>=0.23.0 in /opt/conda/envs/ml-zoomcamp-1/lib/python3.10/site-packages (from astunparse>=1.6.0->tensorflow<3,>=2.17.0->tensorflow-serving-api==2.17.0) (0.44.0)\n",
      "Requirement already satisfied: rich in /opt/conda/envs/ml-zoomcamp-1/lib/python3.10/site-packages (from keras>=3.5.0->tensorflow<3,>=2.17.0->tensorflow-serving-api==2.17.0) (13.9.4)\n",
      "Requirement already satisfied: namex in /opt/conda/envs/ml-zoomcamp-1/lib/python3.10/site-packages (from keras>=3.5.0->tensorflow<3,>=2.17.0->tensorflow-serving-api==2.17.0) (0.0.8)\n",
      "Requirement already satisfied: optree in /opt/conda/envs/ml-zoomcamp-1/lib/python3.10/site-packages (from keras>=3.5.0->tensorflow<3,>=2.17.0->tensorflow-serving-api==2.17.0) (0.13.1)\n",
      "Requirement already satisfied: charset-normalizer<4,>=2 in /opt/conda/envs/ml-zoomcamp-1/lib/python3.10/site-packages (from requests<3,>=2.21.0->tensorflow<3,>=2.17.0->tensorflow-serving-api==2.17.0) (3.3.2)\n",
      "Requirement already satisfied: idna<4,>=2.5 in /opt/conda/envs/ml-zoomcamp-1/lib/python3.10/site-packages (from requests<3,>=2.21.0->tensorflow<3,>=2.17.0->tensorflow-serving-api==2.17.0) (3.7)\n",
      "Requirement already satisfied: urllib3<3,>=1.21.1 in /opt/conda/envs/ml-zoomcamp-1/lib/python3.10/site-packages (from requests<3,>=2.21.0->tensorflow<3,>=2.17.0->tensorflow-serving-api==2.17.0) (2.2.3)\n",
      "Requirement already satisfied: certifi>=2017.4.17 in /opt/conda/envs/ml-zoomcamp-1/lib/python3.10/site-packages (from requests<3,>=2.21.0->tensorflow<3,>=2.17.0->tensorflow-serving-api==2.17.0) (2024.8.30)\n",
      "Collecting grpcio\n",
      "  Using cached grpcio-1.68.1-cp310-cp310-manylinux_2_17_x86_64.manylinux2014_x86_64.whl.metadata (3.9 kB)\n",
      "Requirement already satisfied: markdown>=2.6.8 in /opt/conda/envs/ml-zoomcamp-1/lib/python3.10/site-packages (from tensorboard<2.19,>=2.18->tensorflow<3,>=2.17.0->tensorflow-serving-api==2.17.0) (3.7)\n",
      "Collecting tensorboard-data-server<0.8.0,>=0.7.0 (from tensorboard<2.19,>=2.18->tensorflow<3,>=2.17.0->tensorflow-serving-api==2.17.0)\n",
      "  Using cached tensorboard_data_server-0.7.2-py3-none-manylinux_2_31_x86_64.whl.metadata (1.1 kB)\n",
      "Requirement already satisfied: werkzeug>=1.0.1 in /opt/conda/envs/ml-zoomcamp-1/lib/python3.10/site-packages (from tensorboard<2.19,>=2.18->tensorflow<3,>=2.17.0->tensorflow-serving-api==2.17.0) (3.1.3)\n",
      "Requirement already satisfied: MarkupSafe>=2.1.1 in /opt/conda/envs/ml-zoomcamp-1/lib/python3.10/site-packages (from werkzeug>=1.0.1->tensorboard<2.19,>=2.18->tensorflow<3,>=2.17.0->tensorflow-serving-api==2.17.0) (2.1.3)\n",
      "Requirement already satisfied: markdown-it-py>=2.2.0 in /opt/conda/envs/ml-zoomcamp-1/lib/python3.10/site-packages (from rich->keras>=3.5.0->tensorflow<3,>=2.17.0->tensorflow-serving-api==2.17.0) (3.0.0)\n",
      "Requirement already satisfied: pygments<3.0.0,>=2.13.0 in /opt/conda/envs/ml-zoomcamp-1/lib/python3.10/site-packages (from rich->keras>=3.5.0->tensorflow<3,>=2.17.0->tensorflow-serving-api==2.17.0) (2.15.1)\n",
      "Requirement already satisfied: mdurl~=0.1 in /opt/conda/envs/ml-zoomcamp-1/lib/python3.10/site-packages (from markdown-it-py>=2.2.0->rich->keras>=3.5.0->tensorflow<3,>=2.17.0->tensorflow-serving-api==2.17.0) (0.1.2)\n",
      "Downloading tensorflow_serving_api-2.17.0-py2.py3-none-any.whl (26 kB)\n",
      "Using cached protobuf-4.25.5-cp37-abi3-manylinux2014_x86_64.whl (294 kB)\n",
      "Using cached tensorflow-2.18.0-cp310-cp310-manylinux_2_17_x86_64.manylinux2014_x86_64.whl (615.3 MB)\n",
      "Using cached keras-3.7.0-py3-none-any.whl (1.2 MB)\n",
      "Using cached numpy-2.0.2-cp310-cp310-manylinux_2_17_x86_64.manylinux2014_x86_64.whl (19.5 MB)\n",
      "Using cached tensorboard-2.18.0-py3-none-any.whl (5.5 MB)\n",
      "Using cached grpcio-1.68.1-cp310-cp310-manylinux_2_17_x86_64.manylinux2014_x86_64.whl (5.9 MB)\n",
      "Using cached tensorboard_data_server-0.7.2-py3-none-manylinux_2_31_x86_64.whl (6.6 MB)\n",
      "Installing collected packages: tensorboard-data-server, protobuf, numpy, grpcio, tensorboard, keras, tensorflow, tensorflow-serving-api\n",
      "  Attempting uninstall: tensorboard-data-server\n",
      "    Found existing installation: tensorboard-data-server 0.6.1\n",
      "    Uninstalling tensorboard-data-server-0.6.1:\n",
      "      Successfully uninstalled tensorboard-data-server-0.6.1\n",
      "  Attempting uninstall: protobuf\n",
      "    Found existing installation: protobuf 3.19.6\n",
      "    Uninstalling protobuf-3.19.6:\n",
      "      Successfully uninstalled protobuf-3.19.6\n",
      "  Attempting uninstall: numpy\n",
      "    Found existing installation: numpy 1.23.1\n",
      "    Uninstalling numpy-1.23.1:\n",
      "      Successfully uninstalled numpy-1.23.1\n",
      "  Attempting uninstall: grpcio\n",
      "    Found existing installation: grpcio 1.42.0\n",
      "    Uninstalling grpcio-1.42.0:\n",
      "      Successfully uninstalled grpcio-1.42.0\n",
      "  Attempting uninstall: tensorboard\n",
      "    Found existing installation: tensorboard 2.11.2\n",
      "    Uninstalling tensorboard-2.11.2:\n",
      "      Successfully uninstalled tensorboard-2.11.2\n",
      "  Attempting uninstall: keras\n",
      "    Found existing installation: keras 2.11.0\n",
      "    Uninstalling keras-2.11.0:\n",
      "      Successfully uninstalled keras-2.11.0\n",
      "  Attempting uninstall: tensorflow\n",
      "    Found existing installation: tensorflow 2.11.1\n",
      "    Uninstalling tensorflow-2.11.1:\n",
      "      Successfully uninstalled tensorflow-2.11.1\n",
      "  Attempting uninstall: tensorflow-serving-api\n",
      "    Found existing installation: tensorflow-serving-api 2.7.0\n",
      "    Uninstalling tensorflow-serving-api-2.7.0:\n",
      "      Successfully uninstalled tensorflow-serving-api-2.7.0\n",
      "Successfully installed grpcio-1.68.1 keras-3.7.0 numpy-2.0.2 protobuf-4.25.5 tensorboard-2.18.0 tensorboard-data-server-0.7.2 tensorflow-2.18.0 tensorflow-serving-api-2.17.0\n"
     ]
    }
   ],
   "source": [
    "!pip install grpcio tensorflow-serving-api==2.17.0"
   ]
  },
  {
   "cell_type": "code",
   "execution_count": 3,
   "id": "b23bfb60-37bb-4df4-9bf5-e1937ce94b4a",
   "metadata": {},
   "outputs": [
    {
     "name": "stdout",
     "output_type": "stream",
     "text": [
      "Requirement already satisfied: keras-image-helper in /opt/conda/envs/ml-zoomcamp-1/lib/python3.10/site-packages (0.0.1)\n",
      "Requirement already satisfied: numpy in /opt/conda/envs/ml-zoomcamp-1/lib/python3.10/site-packages (from keras-image-helper) (2.0.2)\n",
      "Requirement already satisfied: pillow in /opt/conda/envs/ml-zoomcamp-1/lib/python3.10/site-packages (from keras-image-helper) (11.0.0)\n"
     ]
    }
   ],
   "source": [
    "!pip install keras-image-helper"
   ]
  },
  {
   "cell_type": "code",
   "execution_count": 4,
   "id": "f36e4ded-c960-4094-879a-da1ec6d6e340",
   "metadata": {},
   "outputs": [
    {
     "name": "stderr",
     "output_type": "stream",
     "text": [
      "2024-12-16 20:43:48.013416: I external/local_xla/xla/tsl/cuda/cudart_stub.cc:32] Could not find cuda drivers on your machine, GPU will not be used.\n",
      "2024-12-16 20:43:48.045873: I external/local_xla/xla/tsl/cuda/cudart_stub.cc:32] Could not find cuda drivers on your machine, GPU will not be used.\n",
      "2024-12-16 20:43:48.114362: E external/local_xla/xla/stream_executor/cuda/cuda_fft.cc:477] Unable to register cuFFT factory: Attempting to register factory for plugin cuFFT when one has already been registered\n",
      "WARNING: All log messages before absl::InitializeLog() is called are written to STDERR\n",
      "E0000 00:00:1734381828.169546   23987 cuda_dnn.cc:8310] Unable to register cuDNN factory: Attempting to register factory for plugin cuDNN when one has already been registered\n",
      "E0000 00:00:1734381828.183063   23987 cuda_blas.cc:1418] Unable to register cuBLAS factory: Attempting to register factory for plugin cuBLAS when one has already been registered\n",
      "2024-12-16 20:43:48.253864: I tensorflow/core/platform/cpu_feature_guard.cc:210] This TensorFlow binary is optimized to use available CPU instructions in performance-critical operations.\n",
      "To enable the following instructions: AVX2 FMA, in other operations, rebuild TensorFlow with the appropriate compiler flags.\n"
     ]
    }
   ],
   "source": [
    "import grpc\n",
    "\n",
    "import tensorflow as tf\n",
    "\n",
    "from tensorflow_serving.apis import predict_pb2\n",
    "from tensorflow_serving.apis import prediction_service_pb2_grpc"
   ]
  },
  {
   "cell_type": "code",
   "execution_count": 5,
   "id": "db75bd2f-fbe0-41bf-8454-43ae3680a0e1",
   "metadata": {},
   "outputs": [],
   "source": [
    "host = 'localhost:8500'\n",
    "\n",
    "channel = grpc.insecure_channel(host)\n",
    "\n",
    "stub = prediction_service_pb2_grpc.PredictionServiceStub(channel)"
   ]
  },
  {
   "cell_type": "code",
   "execution_count": 6,
   "id": "58cf1c4b-9cc1-4c7c-baf9-4a631f0c6a2e",
   "metadata": {},
   "outputs": [],
   "source": [
    "from keras_image_helper import create_preprocessor"
   ]
  },
  {
   "cell_type": "code",
   "execution_count": 7,
   "id": "7a9202a7-8d20-4f67-932a-25a1c315b641",
   "metadata": {},
   "outputs": [],
   "source": [
    "preprocessor = create_preprocessor('xception', target_size=(299, 299))"
   ]
  },
  {
   "cell_type": "code",
   "execution_count": 8,
   "id": "1f723dba-0ff8-4396-a55b-3973094d2d74",
   "metadata": {},
   "outputs": [],
   "source": [
    "url = 'http://bit.ly/mlbookcamp-pants'\n",
    "X = preprocessor.from_url(url)"
   ]
  },
  {
   "cell_type": "code",
   "execution_count": 9,
   "id": "a61d8847-fdb0-4df4-8c67-be581c71c8f7",
   "metadata": {},
   "outputs": [],
   "source": [
    "def np_to_protobuf(data):\n",
    "    return tf.make_tensor_proto(data, shape=data.shape)"
   ]
  },
  {
   "cell_type": "code",
   "execution_count": 10,
   "id": "eb933e95-6d54-43db-95d9-19503b4e89c5",
   "metadata": {},
   "outputs": [],
   "source": [
    "pb_request = predict_pb2.PredictRequest()\n",
    "\n",
    "pb_request.model_spec.name = 'clothing-model'\n",
    "pb_request.model_spec.signature_name = 'serving_default'\n",
    "\n",
    "pb_request.inputs['inputs'].CopyFrom(np_to_protobuf(X))"
   ]
  },
  {
   "cell_type": "code",
   "execution_count": 11,
   "id": "1edfc73c-af5f-43b4-86e3-3fa2af105a37",
   "metadata": {},
   "outputs": [
    {
     "ename": "_InactiveRpcError",
     "evalue": "<_InactiveRpcError of RPC that terminated with:\n\tstatus = StatusCode.FAILED_PRECONDITION\n\tdetails = \"Could not find variable conv2d_63/kernel. This could mean that the variable has been deleted. In TF1, it can also mean the variable is uninitialized. Debug info: container=localhost, status error message=Resource localhost/conv2d_63/kernel/N10tensorflow3VarE does not exist.\n\t [[{{function_node __inference_serving_default_3416}}{{node functional_14_1/xception_1/conv2d_63_1/convolution/ReadVariableOp}}]]\"\n\tdebug_error_string = \"UNKNOWN:Error received from peer ipv6:%5B::1%5D:8500 {created_time:\"2024-12-16T20:44:02.376130246+00:00\", grpc_status:9, grpc_message:\"Could not find variable conv2d_63/kernel. This could mean that the variable has been deleted. In TF1, it can also mean the variable is uninitialized. Debug info: container=localhost, status error message=Resource localhost/conv2d_63/kernel/N10tensorflow3VarE does not exist.\\n\\t [[{{function_node __inference_serving_default_3416}}{{node functional_14_1/xception_1/conv2d_63_1/convolution/ReadVariableOp}}]]\"}\"\n>",
     "output_type": "error",
     "traceback": [
      "\u001b[0;31m---------------------------------------------------------------------------\u001b[0m",
      "\u001b[0;31m_InactiveRpcError\u001b[0m                         Traceback (most recent call last)",
      "Cell \u001b[0;32mIn[11], line 1\u001b[0m\n\u001b[0;32m----> 1\u001b[0m pb_response \u001b[38;5;241m=\u001b[39m \u001b[43mstub\u001b[49m\u001b[38;5;241;43m.\u001b[39;49m\u001b[43mPredict\u001b[49m\u001b[43m(\u001b[49m\u001b[43mpb_request\u001b[49m\u001b[43m,\u001b[49m\u001b[43m \u001b[49m\u001b[43mtimeout\u001b[49m\u001b[38;5;241;43m=\u001b[39;49m\u001b[38;5;241;43m20.0\u001b[39;49m\u001b[43m)\u001b[49m\n",
      "File \u001b[0;32m/opt/conda/envs/ml-zoomcamp-1/lib/python3.10/site-packages/grpc/_channel.py:1181\u001b[0m, in \u001b[0;36m_UnaryUnaryMultiCallable.__call__\u001b[0;34m(self, request, timeout, metadata, credentials, wait_for_ready, compression)\u001b[0m\n\u001b[1;32m   1166\u001b[0m \u001b[38;5;28;01mdef\u001b[39;00m \u001b[38;5;21m__call__\u001b[39m(\n\u001b[1;32m   1167\u001b[0m     \u001b[38;5;28mself\u001b[39m,\n\u001b[1;32m   1168\u001b[0m     request: Any,\n\u001b[0;32m   (...)\u001b[0m\n\u001b[1;32m   1173\u001b[0m     compression: Optional[grpc\u001b[38;5;241m.\u001b[39mCompression] \u001b[38;5;241m=\u001b[39m \u001b[38;5;28;01mNone\u001b[39;00m,\n\u001b[1;32m   1174\u001b[0m ) \u001b[38;5;241m-\u001b[39m\u001b[38;5;241m>\u001b[39m Any:\n\u001b[1;32m   1175\u001b[0m     (\n\u001b[1;32m   1176\u001b[0m         state,\n\u001b[1;32m   1177\u001b[0m         call,\n\u001b[1;32m   1178\u001b[0m     ) \u001b[38;5;241m=\u001b[39m \u001b[38;5;28mself\u001b[39m\u001b[38;5;241m.\u001b[39m_blocking(\n\u001b[1;32m   1179\u001b[0m         request, timeout, metadata, credentials, wait_for_ready, compression\n\u001b[1;32m   1180\u001b[0m     )\n\u001b[0;32m-> 1181\u001b[0m     \u001b[38;5;28;01mreturn\u001b[39;00m \u001b[43m_end_unary_response_blocking\u001b[49m\u001b[43m(\u001b[49m\u001b[43mstate\u001b[49m\u001b[43m,\u001b[49m\u001b[43m \u001b[49m\u001b[43mcall\u001b[49m\u001b[43m,\u001b[49m\u001b[43m \u001b[49m\u001b[38;5;28;43;01mFalse\u001b[39;49;00m\u001b[43m,\u001b[49m\u001b[43m \u001b[49m\u001b[38;5;28;43;01mNone\u001b[39;49;00m\u001b[43m)\u001b[49m\n",
      "File \u001b[0;32m/opt/conda/envs/ml-zoomcamp-1/lib/python3.10/site-packages/grpc/_channel.py:1006\u001b[0m, in \u001b[0;36m_end_unary_response_blocking\u001b[0;34m(state, call, with_call, deadline)\u001b[0m\n\u001b[1;32m   1004\u001b[0m         \u001b[38;5;28;01mreturn\u001b[39;00m state\u001b[38;5;241m.\u001b[39mresponse\n\u001b[1;32m   1005\u001b[0m \u001b[38;5;28;01melse\u001b[39;00m:\n\u001b[0;32m-> 1006\u001b[0m     \u001b[38;5;28;01mraise\u001b[39;00m _InactiveRpcError(state)\n",
      "\u001b[0;31m_InactiveRpcError\u001b[0m: <_InactiveRpcError of RPC that terminated with:\n\tstatus = StatusCode.FAILED_PRECONDITION\n\tdetails = \"Could not find variable conv2d_63/kernel. This could mean that the variable has been deleted. In TF1, it can also mean the variable is uninitialized. Debug info: container=localhost, status error message=Resource localhost/conv2d_63/kernel/N10tensorflow3VarE does not exist.\n\t [[{{function_node __inference_serving_default_3416}}{{node functional_14_1/xception_1/conv2d_63_1/convolution/ReadVariableOp}}]]\"\n\tdebug_error_string = \"UNKNOWN:Error received from peer ipv6:%5B::1%5D:8500 {created_time:\"2024-12-16T20:44:02.376130246+00:00\", grpc_status:9, grpc_message:\"Could not find variable conv2d_63/kernel. This could mean that the variable has been deleted. In TF1, it can also mean the variable is uninitialized. Debug info: container=localhost, status error message=Resource localhost/conv2d_63/kernel/N10tensorflow3VarE does not exist.\\n\\t [[{{function_node __inference_serving_default_3416}}{{node functional_14_1/xception_1/conv2d_63_1/convolution/ReadVariableOp}}]]\"}\"\n>"
     ]
    }
   ],
   "source": [
    "pb_response = stub.Predict(pb_request, timeout=20.0)"
   ]
  },
  {
   "cell_type": "code",
   "execution_count": null,
   "id": "ef294443-630b-42c5-9d48-cbbc69694259",
   "metadata": {},
   "outputs": [],
   "source": [
    "preds = pb_response.outputs['output_0'].float_val"
   ]
  },
  {
   "cell_type": "code",
   "execution_count": null,
   "id": "f1ba762f-213b-45b8-a8bf-e6d7902d3e21",
   "metadata": {},
   "outputs": [],
   "source": [
    "classes = [\n",
    "    'dress',\n",
    "    'hat',\n",
    "    'longsleeve',\n",
    "    'outwear',\n",
    "    'pants',\n",
    "    'shirt',\n",
    "    'shoes',\n",
    "    'shorts',\n",
    "    'skirt',\n",
    "    't-shirt'\n",
    "]"
   ]
  },
  {
   "cell_type": "code",
   "execution_count": null,
   "id": "2d91dcca-a67e-4c7f-8c5b-2d2e9a62dbe7",
   "metadata": {},
   "outputs": [],
   "source": [
    "dict(zip(classes, preds))"
   ]
  },
  {
   "cell_type": "code",
   "execution_count": null,
   "id": "f60ec549-5ab8-4839-b822-43331fd7b9b5",
   "metadata": {},
   "outputs": [],
   "source": []
  }
 ],
 "metadata": {
  "kernelspec": {
   "display_name": "Python 3 (ipykernel)",
   "language": "python",
   "name": "python3"
  },
  "language_info": {
   "codemirror_mode": {
    "name": "ipython",
    "version": 3
   },
   "file_extension": ".py",
   "mimetype": "text/x-python",
   "name": "python",
   "nbconvert_exporter": "python",
   "pygments_lexer": "ipython3",
   "version": "3.10.15"
  }
 },
 "nbformat": 4,
 "nbformat_minor": 5
}
