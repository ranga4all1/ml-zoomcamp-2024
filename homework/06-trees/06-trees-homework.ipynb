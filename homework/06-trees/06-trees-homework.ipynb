{
 "cells": [
  {
   "cell_type": "markdown",
   "id": "54145496-5e51-47e5-8443-75b86eb2f4d2",
   "metadata": {},
   "source": [
    "## 06-trees - Homework\n",
    "\n",
    "> Note: sometimes your answer doesn't match one of \n",
    "> the options exactly. That's fine. \n",
    "> Select the option that's closest to your solution.\n",
    "\n",
    "\n",
    "### Dataset\n",
    "\n",
    "In this homework, we will use the Students Performance in 2024 JAMB dataset from [Kaggle](https://www.kaggle.com/datasets/idowuadamo/students-performance-in-2024-jamb).\n",
    "\n",
    "Here's a wget-able [link](https://github.com/alexeygrigorev/datasets/raw/refs/heads/master/jamb_exam_results.csv):\n",
    "\n",
    "```bash\n",
    "wget https://github.com/alexeygrigorev/datasets/raw/refs/heads/master/jamb_exam_results.csv\n",
    "```\n",
    "\n",
    "The goal of this homework is to create a regression model for predicting the performance of students on a standardized test (column `'JAMB_Score'`).\n",
    "\n",
    "\n",
    "### Preparing the dataset \n",
    "\n",
    "First, let's make the names lowercase:\n",
    "\n",
    "```python\n",
    "df.columns = df.columns.str.lower().str.replace(' ', '_')\n",
    "```\n",
    "\n",
    "Preparation:\n",
    "\n",
    "* Remove the `student_id` column.\n",
    "* Fill missing values with zeros.\n",
    "* Do train/validation/test split with 60%/20%/20% distribution. \n",
    "* Use the `train_test_split` function and set the `random_state` parameter to 1.\n",
    "* Use `DictVectorizer(sparse=True)` to turn the dataframes into matrices."
   ]
  },
  {
   "cell_type": "code",
   "execution_count": 1,
   "id": "4a85e67b-4947-4e16-a4dc-11f0446172f9",
   "metadata": {},
   "outputs": [],
   "source": [
    "# Import required libraries\n",
    "import pandas as pd\n",
    "import numpy as np\n",
    "\n",
    "import seaborn as sns\n",
    "from matplotlib import pyplot as plt\n",
    "%matplotlib inline\n",
    "\n",
    "from sklearn.model_selection import train_test_split\n",
    "from sklearn.feature_extraction import DictVectorizer\n",
    "from sklearn.metrics import mean_squared_error\n",
    "\n",
    "from sklearn.tree import DecisionTreeRegressor\n",
    "from sklearn.tree import export_text\n",
    "from sklearn.ensemble import RandomForestRegressor\n",
    "import xgboost as xgb\n"
   ]
  },
  {
   "cell_type": "code",
   "execution_count": 2,
   "id": "7c20cd87-cc12-4b50-85aa-b4c9d88f46a1",
   "metadata": {},
   "outputs": [],
   "source": [
    "# Data cleaning and preparation\n",
    "\n",
    "url = \"https://github.com/alexeygrigorev/datasets/raw/refs/heads/master/jamb_exam_results.csv\""
   ]
  },
  {
   "cell_type": "code",
   "execution_count": 3,
   "id": "7d3f00cf-7a10-44d5-8f08-eb39b36a2570",
   "metadata": {},
   "outputs": [],
   "source": [
    "# !wget $url -O jamb_exam_results.csv"
   ]
  },
  {
   "cell_type": "code",
   "execution_count": 4,
   "id": "bb5899e6-236d-4b59-8b48-5472ed8bc1a6",
   "metadata": {},
   "outputs": [
    {
     "name": "stdout",
     "output_type": "stream",
     "text": [
      "JAMB_Score,Study_Hours_Per_Week,Attendance_Rate,Teacher_Quality,Distance_To_School,School_Type,School_Location,Extra_Tutorials,Access_To_Learning_Materials,Parent_Involvement,IT_Knowledge,Student_ID,Age,Gender,Socioeconomic_Status,Parent_Education_Level,Assignments_Completed\n",
      "192,22,78,4,12.4,Public,Urban,Yes,Yes,High,Medium,1,17,Male,Low,Tertiary,2\n",
      "207,14,88,4,2.7,Public,Rural,No,Yes,High,High,2,15,Male,High,None,1\n",
      "182,29,87,2,9.6,Public,Rural,Yes,Yes,High,Medium,3,20,Female,High,Tertiary,2\n",
      "210,29,99,2,2.6,Public,Urban,No,Yes,Medium,High,4,22,Female,Medium,Tertiary,1\n",
      "199,12,98,3,8.8,Public,Urban,No,Yes,Medium,Medium,5,22,Female,Medium,Tertiary,1\n",
      "202,25,85,2,13.6,Public,Urban,Yes,No,Medium,Low,6,15,Male,Low,Tertiary,1\n",
      "251,35,85,4,2.6,Public,Urban,No,Yes,Low,Medium,7,16,Female,Medium,Primary,4\n",
      "129,27,75,3,9.4,Public,Urban,No,Yes,Low,Medium,8,19,Female,Low,Tertiary,3\n",
      "220,23,85,3,4.6,Public,Rural,No,No,Low,Medium,9,19,Female,Medium,Tertiary,1\n"
     ]
    }
   ],
   "source": [
    "!head jamb_exam_results.csv"
   ]
  },
  {
   "cell_type": "code",
   "execution_count": 5,
   "id": "1550ad8b-ba8e-413f-9bce-46d521b984a7",
   "metadata": {},
   "outputs": [
    {
     "data": {
      "text/html": [
       "<div>\n",
       "<style scoped>\n",
       "    .dataframe tbody tr th:only-of-type {\n",
       "        vertical-align: middle;\n",
       "    }\n",
       "\n",
       "    .dataframe tbody tr th {\n",
       "        vertical-align: top;\n",
       "    }\n",
       "\n",
       "    .dataframe thead th {\n",
       "        text-align: right;\n",
       "    }\n",
       "</style>\n",
       "<table border=\"1\" class=\"dataframe\">\n",
       "  <thead>\n",
       "    <tr style=\"text-align: right;\">\n",
       "      <th></th>\n",
       "      <th>JAMB_Score</th>\n",
       "      <th>Study_Hours_Per_Week</th>\n",
       "      <th>Attendance_Rate</th>\n",
       "      <th>Teacher_Quality</th>\n",
       "      <th>Distance_To_School</th>\n",
       "      <th>School_Type</th>\n",
       "      <th>School_Location</th>\n",
       "      <th>Extra_Tutorials</th>\n",
       "      <th>Access_To_Learning_Materials</th>\n",
       "      <th>Parent_Involvement</th>\n",
       "      <th>IT_Knowledge</th>\n",
       "      <th>Student_ID</th>\n",
       "      <th>Age</th>\n",
       "      <th>Gender</th>\n",
       "      <th>Socioeconomic_Status</th>\n",
       "      <th>Parent_Education_Level</th>\n",
       "      <th>Assignments_Completed</th>\n",
       "    </tr>\n",
       "  </thead>\n",
       "  <tbody>\n",
       "    <tr>\n",
       "      <th>0</th>\n",
       "      <td>192</td>\n",
       "      <td>22</td>\n",
       "      <td>78</td>\n",
       "      <td>4</td>\n",
       "      <td>12.4</td>\n",
       "      <td>Public</td>\n",
       "      <td>Urban</td>\n",
       "      <td>Yes</td>\n",
       "      <td>Yes</td>\n",
       "      <td>High</td>\n",
       "      <td>Medium</td>\n",
       "      <td>1</td>\n",
       "      <td>17</td>\n",
       "      <td>Male</td>\n",
       "      <td>Low</td>\n",
       "      <td>Tertiary</td>\n",
       "      <td>2</td>\n",
       "    </tr>\n",
       "    <tr>\n",
       "      <th>1</th>\n",
       "      <td>207</td>\n",
       "      <td>14</td>\n",
       "      <td>88</td>\n",
       "      <td>4</td>\n",
       "      <td>2.7</td>\n",
       "      <td>Public</td>\n",
       "      <td>Rural</td>\n",
       "      <td>No</td>\n",
       "      <td>Yes</td>\n",
       "      <td>High</td>\n",
       "      <td>High</td>\n",
       "      <td>2</td>\n",
       "      <td>15</td>\n",
       "      <td>Male</td>\n",
       "      <td>High</td>\n",
       "      <td>None</td>\n",
       "      <td>1</td>\n",
       "    </tr>\n",
       "    <tr>\n",
       "      <th>2</th>\n",
       "      <td>182</td>\n",
       "      <td>29</td>\n",
       "      <td>87</td>\n",
       "      <td>2</td>\n",
       "      <td>9.6</td>\n",
       "      <td>Public</td>\n",
       "      <td>Rural</td>\n",
       "      <td>Yes</td>\n",
       "      <td>Yes</td>\n",
       "      <td>High</td>\n",
       "      <td>Medium</td>\n",
       "      <td>3</td>\n",
       "      <td>20</td>\n",
       "      <td>Female</td>\n",
       "      <td>High</td>\n",
       "      <td>Tertiary</td>\n",
       "      <td>2</td>\n",
       "    </tr>\n",
       "    <tr>\n",
       "      <th>3</th>\n",
       "      <td>210</td>\n",
       "      <td>29</td>\n",
       "      <td>99</td>\n",
       "      <td>2</td>\n",
       "      <td>2.6</td>\n",
       "      <td>Public</td>\n",
       "      <td>Urban</td>\n",
       "      <td>No</td>\n",
       "      <td>Yes</td>\n",
       "      <td>Medium</td>\n",
       "      <td>High</td>\n",
       "      <td>4</td>\n",
       "      <td>22</td>\n",
       "      <td>Female</td>\n",
       "      <td>Medium</td>\n",
       "      <td>Tertiary</td>\n",
       "      <td>1</td>\n",
       "    </tr>\n",
       "    <tr>\n",
       "      <th>4</th>\n",
       "      <td>199</td>\n",
       "      <td>12</td>\n",
       "      <td>98</td>\n",
       "      <td>3</td>\n",
       "      <td>8.8</td>\n",
       "      <td>Public</td>\n",
       "      <td>Urban</td>\n",
       "      <td>No</td>\n",
       "      <td>Yes</td>\n",
       "      <td>Medium</td>\n",
       "      <td>Medium</td>\n",
       "      <td>5</td>\n",
       "      <td>22</td>\n",
       "      <td>Female</td>\n",
       "      <td>Medium</td>\n",
       "      <td>Tertiary</td>\n",
       "      <td>1</td>\n",
       "    </tr>\n",
       "  </tbody>\n",
       "</table>\n",
       "</div>"
      ],
      "text/plain": [
       "   JAMB_Score  Study_Hours_Per_Week  Attendance_Rate  Teacher_Quality  \\\n",
       "0         192                    22               78                4   \n",
       "1         207                    14               88                4   \n",
       "2         182                    29               87                2   \n",
       "3         210                    29               99                2   \n",
       "4         199                    12               98                3   \n",
       "\n",
       "   Distance_To_School School_Type School_Location Extra_Tutorials  \\\n",
       "0                12.4      Public           Urban             Yes   \n",
       "1                 2.7      Public           Rural              No   \n",
       "2                 9.6      Public           Rural             Yes   \n",
       "3                 2.6      Public           Urban              No   \n",
       "4                 8.8      Public           Urban              No   \n",
       "\n",
       "  Access_To_Learning_Materials Parent_Involvement IT_Knowledge  Student_ID  \\\n",
       "0                          Yes               High       Medium           1   \n",
       "1                          Yes               High         High           2   \n",
       "2                          Yes               High       Medium           3   \n",
       "3                          Yes             Medium         High           4   \n",
       "4                          Yes             Medium       Medium           5   \n",
       "\n",
       "   Age  Gender Socioeconomic_Status Parent_Education_Level  \\\n",
       "0   17    Male                  Low               Tertiary   \n",
       "1   15    Male                 High                   None   \n",
       "2   20  Female                 High               Tertiary   \n",
       "3   22  Female               Medium               Tertiary   \n",
       "4   22  Female               Medium               Tertiary   \n",
       "\n",
       "   Assignments_Completed  \n",
       "0                      2  \n",
       "1                      1  \n",
       "2                      2  \n",
       "3                      1  \n",
       "4                      1  "
      ]
     },
     "execution_count": 5,
     "metadata": {},
     "output_type": "execute_result"
    }
   ],
   "source": [
    "df = pd.read_csv(url)\n",
    "df.head()"
   ]
  },
  {
   "cell_type": "code",
   "execution_count": 6,
   "id": "77a6b770-d6b7-4484-b99d-95f07d3c8792",
   "metadata": {},
   "outputs": [
    {
     "data": {
      "text/plain": [
       "(5000, 17)"
      ]
     },
     "execution_count": 6,
     "metadata": {},
     "output_type": "execute_result"
    }
   ],
   "source": [
    "df.shape"
   ]
  },
  {
   "cell_type": "code",
   "execution_count": 7,
   "id": "e31ac1d4-fbd4-480e-9f85-9adcb8e45fd6",
   "metadata": {},
   "outputs": [
    {
     "name": "stdout",
     "output_type": "stream",
     "text": [
      "<class 'pandas.core.frame.DataFrame'>\n",
      "RangeIndex: 5000 entries, 0 to 4999\n",
      "Data columns (total 17 columns):\n",
      " #   Column                        Non-Null Count  Dtype  \n",
      "---  ------                        --------------  -----  \n",
      " 0   JAMB_Score                    5000 non-null   int64  \n",
      " 1   Study_Hours_Per_Week          5000 non-null   int64  \n",
      " 2   Attendance_Rate               5000 non-null   int64  \n",
      " 3   Teacher_Quality               5000 non-null   int64  \n",
      " 4   Distance_To_School            5000 non-null   float64\n",
      " 5   School_Type                   5000 non-null   object \n",
      " 6   School_Location               5000 non-null   object \n",
      " 7   Extra_Tutorials               5000 non-null   object \n",
      " 8   Access_To_Learning_Materials  5000 non-null   object \n",
      " 9   Parent_Involvement            5000 non-null   object \n",
      " 10  IT_Knowledge                  5000 non-null   object \n",
      " 11  Student_ID                    5000 non-null   int64  \n",
      " 12  Age                           5000 non-null   int64  \n",
      " 13  Gender                        5000 non-null   object \n",
      " 14  Socioeconomic_Status          5000 non-null   object \n",
      " 15  Parent_Education_Level        5000 non-null   object \n",
      " 16  Assignments_Completed         5000 non-null   int64  \n",
      "dtypes: float64(1), int64(7), object(9)\n",
      "memory usage: 664.2+ KB\n"
     ]
    }
   ],
   "source": [
    "df.info()"
   ]
  },
  {
   "cell_type": "code",
   "execution_count": 8,
   "id": "c22c4be7-208a-414c-8fbe-5b77f7e12a2a",
   "metadata": {},
   "outputs": [
    {
     "data": {
      "text/html": [
       "<div>\n",
       "<style scoped>\n",
       "    .dataframe tbody tr th:only-of-type {\n",
       "        vertical-align: middle;\n",
       "    }\n",
       "\n",
       "    .dataframe tbody tr th {\n",
       "        vertical-align: top;\n",
       "    }\n",
       "\n",
       "    .dataframe thead th {\n",
       "        text-align: right;\n",
       "    }\n",
       "</style>\n",
       "<table border=\"1\" class=\"dataframe\">\n",
       "  <thead>\n",
       "    <tr style=\"text-align: right;\">\n",
       "      <th></th>\n",
       "      <th>jamb_score</th>\n",
       "      <th>study_hours_per_week</th>\n",
       "      <th>attendance_rate</th>\n",
       "      <th>teacher_quality</th>\n",
       "      <th>distance_to_school</th>\n",
       "      <th>school_type</th>\n",
       "      <th>school_location</th>\n",
       "      <th>extra_tutorials</th>\n",
       "      <th>access_to_learning_materials</th>\n",
       "      <th>parent_involvement</th>\n",
       "      <th>it_knowledge</th>\n",
       "      <th>student_id</th>\n",
       "      <th>age</th>\n",
       "      <th>gender</th>\n",
       "      <th>socioeconomic_status</th>\n",
       "      <th>parent_education_level</th>\n",
       "      <th>assignments_completed</th>\n",
       "    </tr>\n",
       "  </thead>\n",
       "  <tbody>\n",
       "    <tr>\n",
       "      <th>0</th>\n",
       "      <td>192</td>\n",
       "      <td>22</td>\n",
       "      <td>78</td>\n",
       "      <td>4</td>\n",
       "      <td>12.4</td>\n",
       "      <td>Public</td>\n",
       "      <td>Urban</td>\n",
       "      <td>Yes</td>\n",
       "      <td>Yes</td>\n",
       "      <td>High</td>\n",
       "      <td>Medium</td>\n",
       "      <td>1</td>\n",
       "      <td>17</td>\n",
       "      <td>Male</td>\n",
       "      <td>Low</td>\n",
       "      <td>Tertiary</td>\n",
       "      <td>2</td>\n",
       "    </tr>\n",
       "    <tr>\n",
       "      <th>1</th>\n",
       "      <td>207</td>\n",
       "      <td>14</td>\n",
       "      <td>88</td>\n",
       "      <td>4</td>\n",
       "      <td>2.7</td>\n",
       "      <td>Public</td>\n",
       "      <td>Rural</td>\n",
       "      <td>No</td>\n",
       "      <td>Yes</td>\n",
       "      <td>High</td>\n",
       "      <td>High</td>\n",
       "      <td>2</td>\n",
       "      <td>15</td>\n",
       "      <td>Male</td>\n",
       "      <td>High</td>\n",
       "      <td>None</td>\n",
       "      <td>1</td>\n",
       "    </tr>\n",
       "    <tr>\n",
       "      <th>2</th>\n",
       "      <td>182</td>\n",
       "      <td>29</td>\n",
       "      <td>87</td>\n",
       "      <td>2</td>\n",
       "      <td>9.6</td>\n",
       "      <td>Public</td>\n",
       "      <td>Rural</td>\n",
       "      <td>Yes</td>\n",
       "      <td>Yes</td>\n",
       "      <td>High</td>\n",
       "      <td>Medium</td>\n",
       "      <td>3</td>\n",
       "      <td>20</td>\n",
       "      <td>Female</td>\n",
       "      <td>High</td>\n",
       "      <td>Tertiary</td>\n",
       "      <td>2</td>\n",
       "    </tr>\n",
       "    <tr>\n",
       "      <th>3</th>\n",
       "      <td>210</td>\n",
       "      <td>29</td>\n",
       "      <td>99</td>\n",
       "      <td>2</td>\n",
       "      <td>2.6</td>\n",
       "      <td>Public</td>\n",
       "      <td>Urban</td>\n",
       "      <td>No</td>\n",
       "      <td>Yes</td>\n",
       "      <td>Medium</td>\n",
       "      <td>High</td>\n",
       "      <td>4</td>\n",
       "      <td>22</td>\n",
       "      <td>Female</td>\n",
       "      <td>Medium</td>\n",
       "      <td>Tertiary</td>\n",
       "      <td>1</td>\n",
       "    </tr>\n",
       "    <tr>\n",
       "      <th>4</th>\n",
       "      <td>199</td>\n",
       "      <td>12</td>\n",
       "      <td>98</td>\n",
       "      <td>3</td>\n",
       "      <td>8.8</td>\n",
       "      <td>Public</td>\n",
       "      <td>Urban</td>\n",
       "      <td>No</td>\n",
       "      <td>Yes</td>\n",
       "      <td>Medium</td>\n",
       "      <td>Medium</td>\n",
       "      <td>5</td>\n",
       "      <td>22</td>\n",
       "      <td>Female</td>\n",
       "      <td>Medium</td>\n",
       "      <td>Tertiary</td>\n",
       "      <td>1</td>\n",
       "    </tr>\n",
       "  </tbody>\n",
       "</table>\n",
       "</div>"
      ],
      "text/plain": [
       "   jamb_score  study_hours_per_week  attendance_rate  teacher_quality  \\\n",
       "0         192                    22               78                4   \n",
       "1         207                    14               88                4   \n",
       "2         182                    29               87                2   \n",
       "3         210                    29               99                2   \n",
       "4         199                    12               98                3   \n",
       "\n",
       "   distance_to_school school_type school_location extra_tutorials  \\\n",
       "0                12.4      Public           Urban             Yes   \n",
       "1                 2.7      Public           Rural              No   \n",
       "2                 9.6      Public           Rural             Yes   \n",
       "3                 2.6      Public           Urban              No   \n",
       "4                 8.8      Public           Urban              No   \n",
       "\n",
       "  access_to_learning_materials parent_involvement it_knowledge  student_id  \\\n",
       "0                          Yes               High       Medium           1   \n",
       "1                          Yes               High         High           2   \n",
       "2                          Yes               High       Medium           3   \n",
       "3                          Yes             Medium         High           4   \n",
       "4                          Yes             Medium       Medium           5   \n",
       "\n",
       "   age  gender socioeconomic_status parent_education_level  \\\n",
       "0   17    Male                  Low               Tertiary   \n",
       "1   15    Male                 High                   None   \n",
       "2   20  Female                 High               Tertiary   \n",
       "3   22  Female               Medium               Tertiary   \n",
       "4   22  Female               Medium               Tertiary   \n",
       "\n",
       "   assignments_completed  \n",
       "0                      2  \n",
       "1                      1  \n",
       "2                      2  \n",
       "3                      1  \n",
       "4                      1  "
      ]
     },
     "execution_count": 8,
     "metadata": {},
     "output_type": "execute_result"
    }
   ],
   "source": [
    "df.columns = df.columns.str.lower().str.replace(' ', '_')\n",
    "df.head()"
   ]
  },
  {
   "cell_type": "code",
   "execution_count": 9,
   "id": "a7f0d9be-3930-4930-bf74-2a9ef0326e48",
   "metadata": {},
   "outputs": [
    {
     "data": {
      "text/html": [
       "<div>\n",
       "<style scoped>\n",
       "    .dataframe tbody tr th:only-of-type {\n",
       "        vertical-align: middle;\n",
       "    }\n",
       "\n",
       "    .dataframe tbody tr th {\n",
       "        vertical-align: top;\n",
       "    }\n",
       "\n",
       "    .dataframe thead th {\n",
       "        text-align: right;\n",
       "    }\n",
       "</style>\n",
       "<table border=\"1\" class=\"dataframe\">\n",
       "  <thead>\n",
       "    <tr style=\"text-align: right;\">\n",
       "      <th></th>\n",
       "      <th>jamb_score</th>\n",
       "      <th>study_hours_per_week</th>\n",
       "      <th>attendance_rate</th>\n",
       "      <th>teacher_quality</th>\n",
       "      <th>distance_to_school</th>\n",
       "      <th>school_type</th>\n",
       "      <th>school_location</th>\n",
       "      <th>extra_tutorials</th>\n",
       "      <th>access_to_learning_materials</th>\n",
       "      <th>parent_involvement</th>\n",
       "      <th>it_knowledge</th>\n",
       "      <th>age</th>\n",
       "      <th>gender</th>\n",
       "      <th>socioeconomic_status</th>\n",
       "      <th>parent_education_level</th>\n",
       "      <th>assignments_completed</th>\n",
       "    </tr>\n",
       "  </thead>\n",
       "  <tbody>\n",
       "    <tr>\n",
       "      <th>0</th>\n",
       "      <td>192</td>\n",
       "      <td>22</td>\n",
       "      <td>78</td>\n",
       "      <td>4</td>\n",
       "      <td>12.4</td>\n",
       "      <td>Public</td>\n",
       "      <td>Urban</td>\n",
       "      <td>Yes</td>\n",
       "      <td>Yes</td>\n",
       "      <td>High</td>\n",
       "      <td>Medium</td>\n",
       "      <td>17</td>\n",
       "      <td>Male</td>\n",
       "      <td>Low</td>\n",
       "      <td>Tertiary</td>\n",
       "      <td>2</td>\n",
       "    </tr>\n",
       "    <tr>\n",
       "      <th>1</th>\n",
       "      <td>207</td>\n",
       "      <td>14</td>\n",
       "      <td>88</td>\n",
       "      <td>4</td>\n",
       "      <td>2.7</td>\n",
       "      <td>Public</td>\n",
       "      <td>Rural</td>\n",
       "      <td>No</td>\n",
       "      <td>Yes</td>\n",
       "      <td>High</td>\n",
       "      <td>High</td>\n",
       "      <td>15</td>\n",
       "      <td>Male</td>\n",
       "      <td>High</td>\n",
       "      <td>None</td>\n",
       "      <td>1</td>\n",
       "    </tr>\n",
       "    <tr>\n",
       "      <th>2</th>\n",
       "      <td>182</td>\n",
       "      <td>29</td>\n",
       "      <td>87</td>\n",
       "      <td>2</td>\n",
       "      <td>9.6</td>\n",
       "      <td>Public</td>\n",
       "      <td>Rural</td>\n",
       "      <td>Yes</td>\n",
       "      <td>Yes</td>\n",
       "      <td>High</td>\n",
       "      <td>Medium</td>\n",
       "      <td>20</td>\n",
       "      <td>Female</td>\n",
       "      <td>High</td>\n",
       "      <td>Tertiary</td>\n",
       "      <td>2</td>\n",
       "    </tr>\n",
       "    <tr>\n",
       "      <th>3</th>\n",
       "      <td>210</td>\n",
       "      <td>29</td>\n",
       "      <td>99</td>\n",
       "      <td>2</td>\n",
       "      <td>2.6</td>\n",
       "      <td>Public</td>\n",
       "      <td>Urban</td>\n",
       "      <td>No</td>\n",
       "      <td>Yes</td>\n",
       "      <td>Medium</td>\n",
       "      <td>High</td>\n",
       "      <td>22</td>\n",
       "      <td>Female</td>\n",
       "      <td>Medium</td>\n",
       "      <td>Tertiary</td>\n",
       "      <td>1</td>\n",
       "    </tr>\n",
       "    <tr>\n",
       "      <th>4</th>\n",
       "      <td>199</td>\n",
       "      <td>12</td>\n",
       "      <td>98</td>\n",
       "      <td>3</td>\n",
       "      <td>8.8</td>\n",
       "      <td>Public</td>\n",
       "      <td>Urban</td>\n",
       "      <td>No</td>\n",
       "      <td>Yes</td>\n",
       "      <td>Medium</td>\n",
       "      <td>Medium</td>\n",
       "      <td>22</td>\n",
       "      <td>Female</td>\n",
       "      <td>Medium</td>\n",
       "      <td>Tertiary</td>\n",
       "      <td>1</td>\n",
       "    </tr>\n",
       "  </tbody>\n",
       "</table>\n",
       "</div>"
      ],
      "text/plain": [
       "   jamb_score  study_hours_per_week  attendance_rate  teacher_quality  \\\n",
       "0         192                    22               78                4   \n",
       "1         207                    14               88                4   \n",
       "2         182                    29               87                2   \n",
       "3         210                    29               99                2   \n",
       "4         199                    12               98                3   \n",
       "\n",
       "   distance_to_school school_type school_location extra_tutorials  \\\n",
       "0                12.4      Public           Urban             Yes   \n",
       "1                 2.7      Public           Rural              No   \n",
       "2                 9.6      Public           Rural             Yes   \n",
       "3                 2.6      Public           Urban              No   \n",
       "4                 8.8      Public           Urban              No   \n",
       "\n",
       "  access_to_learning_materials parent_involvement it_knowledge  age  gender  \\\n",
       "0                          Yes               High       Medium   17    Male   \n",
       "1                          Yes               High         High   15    Male   \n",
       "2                          Yes               High       Medium   20  Female   \n",
       "3                          Yes             Medium         High   22  Female   \n",
       "4                          Yes             Medium       Medium   22  Female   \n",
       "\n",
       "  socioeconomic_status parent_education_level  assignments_completed  \n",
       "0                  Low               Tertiary                      2  \n",
       "1                 High                   None                      1  \n",
       "2                 High               Tertiary                      2  \n",
       "3               Medium               Tertiary                      1  \n",
       "4               Medium               Tertiary                      1  "
      ]
     },
     "execution_count": 9,
     "metadata": {},
     "output_type": "execute_result"
    }
   ],
   "source": [
    "df.drop('student_id', axis=1, inplace=True)\n",
    "df.head()"
   ]
  },
  {
   "cell_type": "code",
   "execution_count": 10,
   "id": "684b440d-f690-4e3f-956b-30064f9ac028",
   "metadata": {},
   "outputs": [
    {
     "data": {
      "text/plain": [
       "jamb_score                      0\n",
       "study_hours_per_week            0\n",
       "attendance_rate                 0\n",
       "teacher_quality                 0\n",
       "distance_to_school              0\n",
       "school_type                     0\n",
       "school_location                 0\n",
       "extra_tutorials                 0\n",
       "access_to_learning_materials    0\n",
       "parent_involvement              0\n",
       "it_knowledge                    0\n",
       "age                             0\n",
       "gender                          0\n",
       "socioeconomic_status            0\n",
       "parent_education_level          0\n",
       "assignments_completed           0\n",
       "dtype: int64"
      ]
     },
     "execution_count": 10,
     "metadata": {},
     "output_type": "execute_result"
    }
   ],
   "source": [
    "df.isnull().sum()"
   ]
  },
  {
   "cell_type": "code",
   "execution_count": 11,
   "id": "bdaf4788-0826-4899-acdf-2883a9ee9569",
   "metadata": {},
   "outputs": [
    {
     "data": {
      "text/html": [
       "<div>\n",
       "<style scoped>\n",
       "    .dataframe tbody tr th:only-of-type {\n",
       "        vertical-align: middle;\n",
       "    }\n",
       "\n",
       "    .dataframe tbody tr th {\n",
       "        vertical-align: top;\n",
       "    }\n",
       "\n",
       "    .dataframe thead th {\n",
       "        text-align: right;\n",
       "    }\n",
       "</style>\n",
       "<table border=\"1\" class=\"dataframe\">\n",
       "  <thead>\n",
       "    <tr style=\"text-align: right;\">\n",
       "      <th></th>\n",
       "      <th>jamb_score</th>\n",
       "      <th>study_hours_per_week</th>\n",
       "      <th>attendance_rate</th>\n",
       "      <th>teacher_quality</th>\n",
       "      <th>distance_to_school</th>\n",
       "      <th>age</th>\n",
       "      <th>assignments_completed</th>\n",
       "    </tr>\n",
       "  </thead>\n",
       "  <tbody>\n",
       "    <tr>\n",
       "      <th>count</th>\n",
       "      <td>5000.0</td>\n",
       "      <td>5000.0</td>\n",
       "      <td>5000.0</td>\n",
       "      <td>5000.0</td>\n",
       "      <td>5000.0</td>\n",
       "      <td>5000.0</td>\n",
       "      <td>5000.0</td>\n",
       "    </tr>\n",
       "    <tr>\n",
       "      <th>mean</th>\n",
       "      <td>174.0</td>\n",
       "      <td>20.0</td>\n",
       "      <td>84.0</td>\n",
       "      <td>3.0</td>\n",
       "      <td>10.0</td>\n",
       "      <td>18.0</td>\n",
       "      <td>2.0</td>\n",
       "    </tr>\n",
       "    <tr>\n",
       "      <th>std</th>\n",
       "      <td>48.0</td>\n",
       "      <td>10.0</td>\n",
       "      <td>9.0</td>\n",
       "      <td>1.0</td>\n",
       "      <td>5.0</td>\n",
       "      <td>2.0</td>\n",
       "      <td>1.0</td>\n",
       "    </tr>\n",
       "    <tr>\n",
       "      <th>min</th>\n",
       "      <td>100.0</td>\n",
       "      <td>0.0</td>\n",
       "      <td>50.0</td>\n",
       "      <td>1.0</td>\n",
       "      <td>0.0</td>\n",
       "      <td>15.0</td>\n",
       "      <td>1.0</td>\n",
       "    </tr>\n",
       "    <tr>\n",
       "      <th>25%</th>\n",
       "      <td>135.0</td>\n",
       "      <td>13.0</td>\n",
       "      <td>78.0</td>\n",
       "      <td>2.0</td>\n",
       "      <td>7.0</td>\n",
       "      <td>16.0</td>\n",
       "      <td>1.0</td>\n",
       "    </tr>\n",
       "    <tr>\n",
       "      <th>50%</th>\n",
       "      <td>170.0</td>\n",
       "      <td>19.0</td>\n",
       "      <td>84.0</td>\n",
       "      <td>2.0</td>\n",
       "      <td>10.0</td>\n",
       "      <td>18.0</td>\n",
       "      <td>1.0</td>\n",
       "    </tr>\n",
       "    <tr>\n",
       "      <th>75%</th>\n",
       "      <td>209.0</td>\n",
       "      <td>26.0</td>\n",
       "      <td>91.0</td>\n",
       "      <td>3.0</td>\n",
       "      <td>13.0</td>\n",
       "      <td>20.0</td>\n",
       "      <td>2.0</td>\n",
       "    </tr>\n",
       "    <tr>\n",
       "      <th>max</th>\n",
       "      <td>367.0</td>\n",
       "      <td>40.0</td>\n",
       "      <td>100.0</td>\n",
       "      <td>5.0</td>\n",
       "      <td>20.0</td>\n",
       "      <td>22.0</td>\n",
       "      <td>5.0</td>\n",
       "    </tr>\n",
       "  </tbody>\n",
       "</table>\n",
       "</div>"
      ],
      "text/plain": [
       "       jamb_score  study_hours_per_week  attendance_rate  teacher_quality  \\\n",
       "count      5000.0                5000.0           5000.0           5000.0   \n",
       "mean        174.0                  20.0             84.0              3.0   \n",
       "std          48.0                  10.0              9.0              1.0   \n",
       "min         100.0                   0.0             50.0              1.0   \n",
       "25%         135.0                  13.0             78.0              2.0   \n",
       "50%         170.0                  19.0             84.0              2.0   \n",
       "75%         209.0                  26.0             91.0              3.0   \n",
       "max         367.0                  40.0            100.0              5.0   \n",
       "\n",
       "       distance_to_school     age  assignments_completed  \n",
       "count              5000.0  5000.0                 5000.0  \n",
       "mean                 10.0    18.0                    2.0  \n",
       "std                   5.0     2.0                    1.0  \n",
       "min                   0.0    15.0                    1.0  \n",
       "25%                   7.0    16.0                    1.0  \n",
       "50%                  10.0    18.0                    1.0  \n",
       "75%                  13.0    20.0                    2.0  \n",
       "max                  20.0    22.0                    5.0  "
      ]
     },
     "execution_count": 11,
     "metadata": {},
     "output_type": "execute_result"
    }
   ],
   "source": [
    "df.describe().round()"
   ]
  },
  {
   "cell_type": "code",
   "execution_count": 12,
   "id": "82e17837-2c67-4c19-b4c5-bfa45b6d8850",
   "metadata": {},
   "outputs": [],
   "source": [
    "df_full_train, df_test = train_test_split(df, test_size=0.2, random_state=1)\n",
    "df_train, df_val = train_test_split(df_full_train, test_size=0.25, random_state=1)"
   ]
  },
  {
   "cell_type": "code",
   "execution_count": 13,
   "id": "92d4de89-8aed-4b24-9ce2-ff76a2d52eea",
   "metadata": {},
   "outputs": [],
   "source": [
    "df_train = df_train.reset_index(drop=True)\n",
    "df_val = df_val.reset_index(drop=True)\n",
    "df_test = df_test.reset_index(drop=True)"
   ]
  },
  {
   "cell_type": "code",
   "execution_count": 14,
   "id": "0ba3b411-6b48-4622-a94c-6c902141549f",
   "metadata": {},
   "outputs": [],
   "source": [
    "y_train = (df_train.jamb_score).values\n",
    "y_val = (df_val.jamb_score).values\n",
    "y_test = (df_test.jamb_score).values"
   ]
  },
  {
   "cell_type": "code",
   "execution_count": 15,
   "id": "1578b911-fae6-4d4b-be5a-7795e5c35cf0",
   "metadata": {},
   "outputs": [],
   "source": [
    "df_train.drop('jamb_score', axis=1, inplace=True)\n",
    "df_val.drop('jamb_score', axis=1, inplace=True)\n",
    "df_test.drop('jamb_score', axis=1, inplace=True)"
   ]
  },
  {
   "cell_type": "code",
   "execution_count": 16,
   "id": "0e1f322c-23d5-4653-a7af-ae0f6a4d17c0",
   "metadata": {},
   "outputs": [
    {
     "data": {
      "text/plain": [
       "(3000, 1000, 1000)"
      ]
     },
     "execution_count": 16,
     "metadata": {},
     "output_type": "execute_result"
    }
   ],
   "source": [
    "len(df_train), len(df_val), len(df_test)"
   ]
  },
  {
   "cell_type": "code",
   "execution_count": 17,
   "id": "365858d3-1311-41bb-a9b5-caf9a1ca5c70",
   "metadata": {},
   "outputs": [
    {
     "data": {
      "text/plain": [
       "(3000, 1000, 1000)"
      ]
     },
     "execution_count": 17,
     "metadata": {},
     "output_type": "execute_result"
    }
   ],
   "source": [
    "len(y_train), len(y_val), len(y_test)"
   ]
  },
  {
   "cell_type": "code",
   "execution_count": 18,
   "id": "15ab2cc3-787b-4ed4-84e8-22044545cc2b",
   "metadata": {},
   "outputs": [
    {
     "data": {
      "text/html": [
       "<div>\n",
       "<style scoped>\n",
       "    .dataframe tbody tr th:only-of-type {\n",
       "        vertical-align: middle;\n",
       "    }\n",
       "\n",
       "    .dataframe tbody tr th {\n",
       "        vertical-align: top;\n",
       "    }\n",
       "\n",
       "    .dataframe thead th {\n",
       "        text-align: right;\n",
       "    }\n",
       "</style>\n",
       "<table border=\"1\" class=\"dataframe\">\n",
       "  <thead>\n",
       "    <tr style=\"text-align: right;\">\n",
       "      <th></th>\n",
       "      <th>study_hours_per_week</th>\n",
       "      <th>attendance_rate</th>\n",
       "      <th>teacher_quality</th>\n",
       "      <th>distance_to_school</th>\n",
       "      <th>school_type</th>\n",
       "      <th>school_location</th>\n",
       "      <th>extra_tutorials</th>\n",
       "      <th>access_to_learning_materials</th>\n",
       "      <th>parent_involvement</th>\n",
       "      <th>it_knowledge</th>\n",
       "      <th>age</th>\n",
       "      <th>gender</th>\n",
       "      <th>socioeconomic_status</th>\n",
       "      <th>parent_education_level</th>\n",
       "      <th>assignments_completed</th>\n",
       "    </tr>\n",
       "  </thead>\n",
       "  <tbody>\n",
       "    <tr>\n",
       "      <th>0</th>\n",
       "      <td>20</td>\n",
       "      <td>72</td>\n",
       "      <td>3</td>\n",
       "      <td>4.4</td>\n",
       "      <td>Public</td>\n",
       "      <td>Urban</td>\n",
       "      <td>No</td>\n",
       "      <td>Yes</td>\n",
       "      <td>Medium</td>\n",
       "      <td>Low</td>\n",
       "      <td>21</td>\n",
       "      <td>Female</td>\n",
       "      <td>Low</td>\n",
       "      <td>None</td>\n",
       "      <td>3</td>\n",
       "    </tr>\n",
       "    <tr>\n",
       "      <th>1</th>\n",
       "      <td>11</td>\n",
       "      <td>80</td>\n",
       "      <td>2</td>\n",
       "      <td>3.3</td>\n",
       "      <td>Public</td>\n",
       "      <td>Urban</td>\n",
       "      <td>Yes</td>\n",
       "      <td>Yes</td>\n",
       "      <td>Medium</td>\n",
       "      <td>High</td>\n",
       "      <td>22</td>\n",
       "      <td>Female</td>\n",
       "      <td>Medium</td>\n",
       "      <td>Secondary</td>\n",
       "      <td>1</td>\n",
       "    </tr>\n",
       "    <tr>\n",
       "      <th>2</th>\n",
       "      <td>31</td>\n",
       "      <td>82</td>\n",
       "      <td>1</td>\n",
       "      <td>8.3</td>\n",
       "      <td>Public</td>\n",
       "      <td>Urban</td>\n",
       "      <td>Yes</td>\n",
       "      <td>Yes</td>\n",
       "      <td>Low</td>\n",
       "      <td>High</td>\n",
       "      <td>19</td>\n",
       "      <td>Female</td>\n",
       "      <td>High</td>\n",
       "      <td>Tertiary</td>\n",
       "      <td>2</td>\n",
       "    </tr>\n",
       "    <tr>\n",
       "      <th>3</th>\n",
       "      <td>29</td>\n",
       "      <td>79</td>\n",
       "      <td>1</td>\n",
       "      <td>15.8</td>\n",
       "      <td>Public</td>\n",
       "      <td>Rural</td>\n",
       "      <td>Yes</td>\n",
       "      <td>Yes</td>\n",
       "      <td>Low</td>\n",
       "      <td>Low</td>\n",
       "      <td>19</td>\n",
       "      <td>Male</td>\n",
       "      <td>Low</td>\n",
       "      <td>Primary</td>\n",
       "      <td>2</td>\n",
       "    </tr>\n",
       "    <tr>\n",
       "      <th>4</th>\n",
       "      <td>28</td>\n",
       "      <td>96</td>\n",
       "      <td>2</td>\n",
       "      <td>8.9</td>\n",
       "      <td>Private</td>\n",
       "      <td>Rural</td>\n",
       "      <td>Yes</td>\n",
       "      <td>Yes</td>\n",
       "      <td>Medium</td>\n",
       "      <td>Low</td>\n",
       "      <td>19</td>\n",
       "      <td>Male</td>\n",
       "      <td>High</td>\n",
       "      <td>Secondary</td>\n",
       "      <td>3</td>\n",
       "    </tr>\n",
       "    <tr>\n",
       "      <th>...</th>\n",
       "      <td>...</td>\n",
       "      <td>...</td>\n",
       "      <td>...</td>\n",
       "      <td>...</td>\n",
       "      <td>...</td>\n",
       "      <td>...</td>\n",
       "      <td>...</td>\n",
       "      <td>...</td>\n",
       "      <td>...</td>\n",
       "      <td>...</td>\n",
       "      <td>...</td>\n",
       "      <td>...</td>\n",
       "      <td>...</td>\n",
       "      <td>...</td>\n",
       "      <td>...</td>\n",
       "    </tr>\n",
       "    <tr>\n",
       "      <th>2995</th>\n",
       "      <td>1</td>\n",
       "      <td>79</td>\n",
       "      <td>3</td>\n",
       "      <td>12.2</td>\n",
       "      <td>Public</td>\n",
       "      <td>Urban</td>\n",
       "      <td>No</td>\n",
       "      <td>No</td>\n",
       "      <td>Low</td>\n",
       "      <td>High</td>\n",
       "      <td>17</td>\n",
       "      <td>Male</td>\n",
       "      <td>High</td>\n",
       "      <td>Secondary</td>\n",
       "      <td>1</td>\n",
       "    </tr>\n",
       "    <tr>\n",
       "      <th>2996</th>\n",
       "      <td>3</td>\n",
       "      <td>87</td>\n",
       "      <td>1</td>\n",
       "      <td>9.6</td>\n",
       "      <td>Public</td>\n",
       "      <td>Urban</td>\n",
       "      <td>No</td>\n",
       "      <td>No</td>\n",
       "      <td>Medium</td>\n",
       "      <td>Medium</td>\n",
       "      <td>17</td>\n",
       "      <td>Male</td>\n",
       "      <td>Medium</td>\n",
       "      <td>Primary</td>\n",
       "      <td>1</td>\n",
       "    </tr>\n",
       "    <tr>\n",
       "      <th>2997</th>\n",
       "      <td>17</td>\n",
       "      <td>96</td>\n",
       "      <td>4</td>\n",
       "      <td>13.7</td>\n",
       "      <td>Private</td>\n",
       "      <td>Urban</td>\n",
       "      <td>No</td>\n",
       "      <td>Yes</td>\n",
       "      <td>High</td>\n",
       "      <td>Medium</td>\n",
       "      <td>16</td>\n",
       "      <td>Male</td>\n",
       "      <td>Medium</td>\n",
       "      <td>Primary</td>\n",
       "      <td>2</td>\n",
       "    </tr>\n",
       "    <tr>\n",
       "      <th>2998</th>\n",
       "      <td>25</td>\n",
       "      <td>74</td>\n",
       "      <td>2</td>\n",
       "      <td>3.4</td>\n",
       "      <td>Public</td>\n",
       "      <td>Rural</td>\n",
       "      <td>No</td>\n",
       "      <td>No</td>\n",
       "      <td>High</td>\n",
       "      <td>High</td>\n",
       "      <td>21</td>\n",
       "      <td>Male</td>\n",
       "      <td>Low</td>\n",
       "      <td>Secondary</td>\n",
       "      <td>1</td>\n",
       "    </tr>\n",
       "    <tr>\n",
       "      <th>2999</th>\n",
       "      <td>18</td>\n",
       "      <td>67</td>\n",
       "      <td>2</td>\n",
       "      <td>10.5</td>\n",
       "      <td>Public</td>\n",
       "      <td>Urban</td>\n",
       "      <td>Yes</td>\n",
       "      <td>Yes</td>\n",
       "      <td>Low</td>\n",
       "      <td>Medium</td>\n",
       "      <td>17</td>\n",
       "      <td>Female</td>\n",
       "      <td>High</td>\n",
       "      <td>Secondary</td>\n",
       "      <td>1</td>\n",
       "    </tr>\n",
       "  </tbody>\n",
       "</table>\n",
       "<p>3000 rows × 15 columns</p>\n",
       "</div>"
      ],
      "text/plain": [
       "      study_hours_per_week  attendance_rate  teacher_quality  \\\n",
       "0                       20               72                3   \n",
       "1                       11               80                2   \n",
       "2                       31               82                1   \n",
       "3                       29               79                1   \n",
       "4                       28               96                2   \n",
       "...                    ...              ...              ...   \n",
       "2995                     1               79                3   \n",
       "2996                     3               87                1   \n",
       "2997                    17               96                4   \n",
       "2998                    25               74                2   \n",
       "2999                    18               67                2   \n",
       "\n",
       "      distance_to_school school_type school_location extra_tutorials  \\\n",
       "0                    4.4      Public           Urban              No   \n",
       "1                    3.3      Public           Urban             Yes   \n",
       "2                    8.3      Public           Urban             Yes   \n",
       "3                   15.8      Public           Rural             Yes   \n",
       "4                    8.9     Private           Rural             Yes   \n",
       "...                  ...         ...             ...             ...   \n",
       "2995                12.2      Public           Urban              No   \n",
       "2996                 9.6      Public           Urban              No   \n",
       "2997                13.7     Private           Urban              No   \n",
       "2998                 3.4      Public           Rural              No   \n",
       "2999                10.5      Public           Urban             Yes   \n",
       "\n",
       "     access_to_learning_materials parent_involvement it_knowledge  age  \\\n",
       "0                             Yes             Medium          Low   21   \n",
       "1                             Yes             Medium         High   22   \n",
       "2                             Yes                Low         High   19   \n",
       "3                             Yes                Low          Low   19   \n",
       "4                             Yes             Medium          Low   19   \n",
       "...                           ...                ...          ...  ...   \n",
       "2995                           No                Low         High   17   \n",
       "2996                           No             Medium       Medium   17   \n",
       "2997                          Yes               High       Medium   16   \n",
       "2998                           No               High         High   21   \n",
       "2999                          Yes                Low       Medium   17   \n",
       "\n",
       "      gender socioeconomic_status parent_education_level  \\\n",
       "0     Female                  Low                   None   \n",
       "1     Female               Medium              Secondary   \n",
       "2     Female                 High               Tertiary   \n",
       "3       Male                  Low                Primary   \n",
       "4       Male                 High              Secondary   \n",
       "...      ...                  ...                    ...   \n",
       "2995    Male                 High              Secondary   \n",
       "2996    Male               Medium                Primary   \n",
       "2997    Male               Medium                Primary   \n",
       "2998    Male                  Low              Secondary   \n",
       "2999  Female                 High              Secondary   \n",
       "\n",
       "      assignments_completed  \n",
       "0                         3  \n",
       "1                         1  \n",
       "2                         2  \n",
       "3                         2  \n",
       "4                         3  \n",
       "...                     ...  \n",
       "2995                      1  \n",
       "2996                      1  \n",
       "2997                      2  \n",
       "2998                      1  \n",
       "2999                      1  \n",
       "\n",
       "[3000 rows x 15 columns]"
      ]
     },
     "execution_count": 18,
     "metadata": {},
     "output_type": "execute_result"
    }
   ],
   "source": [
    "df_train"
   ]
  },
  {
   "cell_type": "code",
   "execution_count": 19,
   "id": "48917909-4432-49cf-84d2-c3c07b9a5d45",
   "metadata": {},
   "outputs": [
    {
     "data": {
      "text/plain": [
       "array([145, 231, 161, ..., 216, 234, 103])"
      ]
     },
     "execution_count": 19,
     "metadata": {},
     "output_type": "execute_result"
    }
   ],
   "source": [
    "y_train"
   ]
  },
  {
   "cell_type": "code",
   "execution_count": 20,
   "id": "079145b5-8ef6-4459-ba76-af2b97f834b6",
   "metadata": {},
   "outputs": [],
   "source": [
    "# turn the dataframes into matrices\n",
    "train_full_dicts = df_full_train.to_dict(orient='records')\n",
    "train_dicts = df_train.to_dict(orient='records')\n",
    "val_dicts = df_val.to_dict(orient='records')\n",
    "test_dicts = df_test.to_dict(orient='records')"
   ]
  },
  {
   "cell_type": "code",
   "execution_count": 21,
   "id": "a8e3c7fb-0eba-4ff3-b9f5-9c9035aadcec",
   "metadata": {},
   "outputs": [
    {
     "data": {
      "text/plain": [
       "{'study_hours_per_week': 20,\n",
       " 'attendance_rate': 72,\n",
       " 'teacher_quality': 3,\n",
       " 'distance_to_school': 4.4,\n",
       " 'school_type': 'Public',\n",
       " 'school_location': 'Urban',\n",
       " 'extra_tutorials': 'No',\n",
       " 'access_to_learning_materials': 'Yes',\n",
       " 'parent_involvement': 'Medium',\n",
       " 'it_knowledge': 'Low',\n",
       " 'age': 21,\n",
       " 'gender': 'Female',\n",
       " 'socioeconomic_status': 'Low',\n",
       " 'parent_education_level': 'None',\n",
       " 'assignments_completed': 3}"
      ]
     },
     "execution_count": 21,
     "metadata": {},
     "output_type": "execute_result"
    }
   ],
   "source": [
    "train_dicts[0]"
   ]
  },
  {
   "cell_type": "code",
   "execution_count": 22,
   "id": "ec49d744-236a-4ae9-b52a-7f84d9da6c07",
   "metadata": {},
   "outputs": [],
   "source": [
    "dv = DictVectorizer(sparse=False)\n",
    "X_full_train = dv.fit_transform(train_full_dicts)\n",
    "X_train = dv.fit_transform(train_dicts)\n",
    "X_val = dv.fit_transform(val_dicts)\n",
    "X_test = dv.fit_transform(test_dicts)"
   ]
  },
  {
   "cell_type": "code",
   "execution_count": 23,
   "id": "1f818660-a327-40bd-9bd0-408e2b4c804a",
   "metadata": {},
   "outputs": [
    {
     "data": {
      "text/plain": [
       "(4000, 3000, 1000, 1000)"
      ]
     },
     "execution_count": 23,
     "metadata": {},
     "output_type": "execute_result"
    }
   ],
   "source": [
    "len(X_full_train), len(X_train), len(X_val), len(X_test)"
   ]
  },
  {
   "cell_type": "code",
   "execution_count": 24,
   "id": "0de2311a-130c-4e50-af31-2615805869ba",
   "metadata": {},
   "outputs": [
    {
     "data": {
      "text/plain": [
       "array([[ 0.,  1., 21., ...,  0., 20.,  3.],\n",
       "       [ 0.,  1., 22., ...,  1., 11.,  2.],\n",
       "       [ 0.,  1., 19., ...,  0., 31.,  1.],\n",
       "       ...,\n",
       "       [ 0.,  1., 16., ...,  1., 17.,  4.],\n",
       "       [ 1.,  0., 21., ...,  0., 25.,  2.],\n",
       "       [ 0.,  1., 17., ...,  0., 18.,  2.]])"
      ]
     },
     "execution_count": 24,
     "metadata": {},
     "output_type": "execute_result"
    }
   ],
   "source": [
    "X_train"
   ]
  },
  {
   "cell_type": "markdown",
   "id": "783fb874-3d31-42bc-9dbf-2f366f37a8d2",
   "metadata": {},
   "source": [
    "## Question 1\n",
    "\n",
    "Let's train a decision tree regressor to predict the `jamb_score` variable. \n",
    "\n",
    "* Train a model with `max_depth=1`.\n",
    "\n",
    "\n",
    "Which feature is used for splitting the data?\n",
    "\n",
    "* `study_hours_per_week`\n",
    "* `attendance_rate`\n",
    "* `teacher_quality`\n",
    "* `distance_to_school`\n",
    "\n",
    "**Answer: `study_hours_per_week`**"
   ]
  },
  {
   "cell_type": "code",
   "execution_count": 25,
   "id": "c15107a7-a9df-4d0f-9ac6-2c4554378317",
   "metadata": {},
   "outputs": [
    {
     "data": {
      "text/plain": [
       "DecisionTreeRegressor(max_depth=1)"
      ]
     },
     "execution_count": 25,
     "metadata": {},
     "output_type": "execute_result"
    }
   ],
   "source": [
    "dt = DecisionTreeRegressor(max_depth=1)\n",
    "dt.fit(X_train, y_train)"
   ]
  },
  {
   "cell_type": "code",
   "execution_count": 26,
   "id": "35de060b-ee4f-410a-b791-91a1662c474b",
   "metadata": {},
   "outputs": [],
   "source": [
    "y_pred = dt.predict(X_val)"
   ]
  },
  {
   "cell_type": "code",
   "execution_count": 27,
   "id": "feb5e7ce-d026-4e73-96b0-bc873808c4dc",
   "metadata": {},
   "outputs": [
    {
     "data": {
      "text/plain": [
       "45.803"
      ]
     },
     "execution_count": 27,
     "metadata": {},
     "output_type": "execute_result"
    }
   ],
   "source": [
    "rmse = np.sqrt(mean_squared_error(y_val, y_pred))\n",
    "rmse = rmse.round(3)\n",
    "rmse"
   ]
  },
  {
   "cell_type": "code",
   "execution_count": 28,
   "id": "f58c3f5c-42f9-42dc-8008-4209a7050d0f",
   "metadata": {},
   "outputs": [
    {
     "name": "stdout",
     "output_type": "stream",
     "text": [
      "|--- study_hours_per_week <= 18.50\n",
      "|   |--- value: [155.24]\n",
      "|--- study_hours_per_week >  18.50\n",
      "|   |--- value: [188.59]\n",
      "\n"
     ]
    }
   ],
   "source": [
    "print(export_text(dt, feature_names=list(dv.get_feature_names_out())))"
   ]
  },
  {
   "cell_type": "markdown",
   "id": "6a1d4829-7729-4444-b345-59bf00e63a97",
   "metadata": {},
   "source": [
    "## Question 2\n",
    "\n",
    "Train a random forest model with these parameters:\n",
    "\n",
    "* `n_estimators=10`\n",
    "* `random_state=1`\n",
    "* `n_jobs=-1` (optional - to make training faster)\n",
    "\n",
    "\n",
    "What's the RMSE of this model on validation?\n",
    "\n",
    "* 22.13\n",
    "* 42.13\n",
    "* 62.13\n",
    "* 82.12\n",
    "\n",
    "**Answer: `42.13`**"
   ]
  },
  {
   "cell_type": "code",
   "execution_count": 29,
   "id": "08beef3a-3d09-4afc-9bfd-527b05381ded",
   "metadata": {},
   "outputs": [
    {
     "data": {
      "text/plain": [
       "RandomForestRegressor(n_estimators=10, n_jobs=-1, random_state=1)"
      ]
     },
     "execution_count": 29,
     "metadata": {},
     "output_type": "execute_result"
    }
   ],
   "source": [
    "rf = RandomForestRegressor(n_estimators=10, random_state=1, n_jobs=-1)\n",
    "rf.fit(X_train, y_train)"
   ]
  },
  {
   "cell_type": "code",
   "execution_count": 30,
   "id": "8e071aac-6318-4e69-957b-f72f12a95987",
   "metadata": {},
   "outputs": [],
   "source": [
    "y_pred = rf.predict(X_val)"
   ]
  },
  {
   "cell_type": "code",
   "execution_count": 31,
   "id": "9dfb4d3c-691f-4553-b467-46c56c02aa0a",
   "metadata": {},
   "outputs": [
    {
     "data": {
      "text/plain": [
       "41.825"
      ]
     },
     "execution_count": 31,
     "metadata": {},
     "output_type": "execute_result"
    }
   ],
   "source": [
    "rmse = np.sqrt(mean_squared_error(y_val, y_pred))\n",
    "rmse = rmse.round(3)\n",
    "rmse"
   ]
  },
  {
   "cell_type": "markdown",
   "id": "cd200cd5-1e4f-47a4-bfbc-54cfd22e569c",
   "metadata": {},
   "source": [
    "## Question 3\n",
    "\n",
    "Now let's experiment with the `n_estimators` parameter\n",
    "\n",
    "* Try different values of this parameter from 10 to 200 with step 10.\n",
    "* Set `random_state` to `1`.\n",
    "* Evaluate the model on the validation dataset.\n",
    "\n",
    "\n",
    "After which value of `n_estimators` does RMSE stop improving?\n",
    "Consider 3 decimal places for calculating the answer.\n",
    "\n",
    "- 10\n",
    "- 25\n",
    "- 80\n",
    "- 200\n",
    "\n",
    "**Answer: `80`**"
   ]
  },
  {
   "cell_type": "code",
   "execution_count": 32,
   "id": "8da9754c-097a-4f83-8f6d-5d42495bcf51",
   "metadata": {},
   "outputs": [],
   "source": [
    "scores = []\n",
    "\n",
    "for n in range(10, 201, 10):\n",
    "    rf = rf = RandomForestRegressor(n_estimators=n, random_state=1, n_jobs=-1)\n",
    "    rf.fit(X_train, y_train)\n",
    "\n",
    "    y_pred = rf.predict(X_val)\n",
    "    rmse = np.sqrt(mean_squared_error(y_val, y_pred))\n",
    "    rmse = rmse.round(3)\n",
    "\n",
    "    scores.append((n, rmse))"
   ]
  },
  {
   "cell_type": "code",
   "execution_count": 33,
   "id": "18b02b80-18c0-4696-94a0-5c06b453f862",
   "metadata": {},
   "outputs": [
    {
     "data": {
      "text/plain": [
       "[(10, 41.825),\n",
       " (20, 41.196),\n",
       " (30, 40.857),\n",
       " (40, 40.666),\n",
       " (50, 40.678),\n",
       " (60, 40.604),\n",
       " (70, 40.535),\n",
       " (80, 40.404),\n",
       " (90, 40.377),\n",
       " (100, 40.43),\n",
       " (110, 40.472),\n",
       " (120, 40.522),\n",
       " (130, 40.53),\n",
       " (140, 40.465),\n",
       " (150, 40.436),\n",
       " (160, 40.462),\n",
       " (170, 40.479),\n",
       " (180, 40.482),\n",
       " (190, 40.468),\n",
       " (200, 40.454)]"
      ]
     },
     "execution_count": 33,
     "metadata": {},
     "output_type": "execute_result"
    }
   ],
   "source": [
    "scores"
   ]
  },
  {
   "cell_type": "code",
   "execution_count": 34,
   "id": "aa97e599-9f5b-43e1-957a-e56544e2b0d7",
   "metadata": {},
   "outputs": [],
   "source": [
    "df_scores = pd.DataFrame(scores, columns=['n_estimators', 'rmse'])"
   ]
  },
  {
   "cell_type": "code",
   "execution_count": 35,
   "id": "2beab549-f58b-4b70-a04b-34105a691277",
   "metadata": {},
   "outputs": [
    {
     "data": {
      "text/html": [
       "<div>\n",
       "<style scoped>\n",
       "    .dataframe tbody tr th:only-of-type {\n",
       "        vertical-align: middle;\n",
       "    }\n",
       "\n",
       "    .dataframe tbody tr th {\n",
       "        vertical-align: top;\n",
       "    }\n",
       "\n",
       "    .dataframe thead th {\n",
       "        text-align: right;\n",
       "    }\n",
       "</style>\n",
       "<table border=\"1\" class=\"dataframe\">\n",
       "  <thead>\n",
       "    <tr style=\"text-align: right;\">\n",
       "      <th></th>\n",
       "      <th>n_estimators</th>\n",
       "      <th>rmse</th>\n",
       "    </tr>\n",
       "  </thead>\n",
       "  <tbody>\n",
       "    <tr>\n",
       "      <th>0</th>\n",
       "      <td>10</td>\n",
       "      <td>41.825</td>\n",
       "    </tr>\n",
       "    <tr>\n",
       "      <th>1</th>\n",
       "      <td>20</td>\n",
       "      <td>41.196</td>\n",
       "    </tr>\n",
       "    <tr>\n",
       "      <th>2</th>\n",
       "      <td>30</td>\n",
       "      <td>40.857</td>\n",
       "    </tr>\n",
       "    <tr>\n",
       "      <th>3</th>\n",
       "      <td>40</td>\n",
       "      <td>40.666</td>\n",
       "    </tr>\n",
       "    <tr>\n",
       "      <th>4</th>\n",
       "      <td>50</td>\n",
       "      <td>40.678</td>\n",
       "    </tr>\n",
       "    <tr>\n",
       "      <th>5</th>\n",
       "      <td>60</td>\n",
       "      <td>40.604</td>\n",
       "    </tr>\n",
       "    <tr>\n",
       "      <th>6</th>\n",
       "      <td>70</td>\n",
       "      <td>40.535</td>\n",
       "    </tr>\n",
       "    <tr>\n",
       "      <th>7</th>\n",
       "      <td>80</td>\n",
       "      <td>40.404</td>\n",
       "    </tr>\n",
       "    <tr>\n",
       "      <th>8</th>\n",
       "      <td>90</td>\n",
       "      <td>40.377</td>\n",
       "    </tr>\n",
       "    <tr>\n",
       "      <th>9</th>\n",
       "      <td>100</td>\n",
       "      <td>40.430</td>\n",
       "    </tr>\n",
       "    <tr>\n",
       "      <th>10</th>\n",
       "      <td>110</td>\n",
       "      <td>40.472</td>\n",
       "    </tr>\n",
       "    <tr>\n",
       "      <th>11</th>\n",
       "      <td>120</td>\n",
       "      <td>40.522</td>\n",
       "    </tr>\n",
       "    <tr>\n",
       "      <th>12</th>\n",
       "      <td>130</td>\n",
       "      <td>40.530</td>\n",
       "    </tr>\n",
       "    <tr>\n",
       "      <th>13</th>\n",
       "      <td>140</td>\n",
       "      <td>40.465</td>\n",
       "    </tr>\n",
       "    <tr>\n",
       "      <th>14</th>\n",
       "      <td>150</td>\n",
       "      <td>40.436</td>\n",
       "    </tr>\n",
       "    <tr>\n",
       "      <th>15</th>\n",
       "      <td>160</td>\n",
       "      <td>40.462</td>\n",
       "    </tr>\n",
       "    <tr>\n",
       "      <th>16</th>\n",
       "      <td>170</td>\n",
       "      <td>40.479</td>\n",
       "    </tr>\n",
       "    <tr>\n",
       "      <th>17</th>\n",
       "      <td>180</td>\n",
       "      <td>40.482</td>\n",
       "    </tr>\n",
       "    <tr>\n",
       "      <th>18</th>\n",
       "      <td>190</td>\n",
       "      <td>40.468</td>\n",
       "    </tr>\n",
       "    <tr>\n",
       "      <th>19</th>\n",
       "      <td>200</td>\n",
       "      <td>40.454</td>\n",
       "    </tr>\n",
       "  </tbody>\n",
       "</table>\n",
       "</div>"
      ],
      "text/plain": [
       "    n_estimators    rmse\n",
       "0             10  41.825\n",
       "1             20  41.196\n",
       "2             30  40.857\n",
       "3             40  40.666\n",
       "4             50  40.678\n",
       "5             60  40.604\n",
       "6             70  40.535\n",
       "7             80  40.404\n",
       "8             90  40.377\n",
       "9            100  40.430\n",
       "10           110  40.472\n",
       "11           120  40.522\n",
       "12           130  40.530\n",
       "13           140  40.465\n",
       "14           150  40.436\n",
       "15           160  40.462\n",
       "16           170  40.479\n",
       "17           180  40.482\n",
       "18           190  40.468\n",
       "19           200  40.454"
      ]
     },
     "execution_count": 35,
     "metadata": {},
     "output_type": "execute_result"
    }
   ],
   "source": [
    "df_scores"
   ]
  },
  {
   "cell_type": "code",
   "execution_count": 36,
   "id": "188b0f03-45ae-4d47-a6d1-6bcd8406760d",
   "metadata": {},
   "outputs": [
    {
     "data": {
      "text/plain": [
       "[<matplotlib.lines.Line2D at 0x7fee17fffdc0>]"
      ]
     },
     "execution_count": 36,
     "metadata": {},
     "output_type": "execute_result"
    },
    {
     "data": {
      "image/png": "[encoded data removed]",
      "text/plain": [
       "<Figure size 640x480 with 1 Axes>"
      ]
     },
     "metadata": {},
     "output_type": "display_data"
    }
   ],
   "source": [
    "plt.plot(df_scores.n_estimators, df_scores.rmse)"
   ]
  },
  {
   "cell_type": "code",
   "execution_count": 37,
   "id": "7e9379ce-dd64-4dc2-a694-8a23c8b4d284",
   "metadata": {},
   "outputs": [
    {
     "name": "stdout",
     "output_type": "stream",
     "text": [
      "Lowest RMSE: 40.377 at n_estimators = 90\n"
     ]
    }
   ],
   "source": [
    "# Find the minimum RMSE and its corresponding n_estimators\n",
    "min_rmse = df_scores['rmse'].min()\n",
    "best_n = df_scores.loc[df_scores['rmse'] == min_rmse, 'n_estimators'].iloc[0]\n",
    "\n",
    "print(f\"Lowest RMSE: {min_rmse:.3f} at n_estimators = {best_n}\")"
   ]
  },
  {
   "cell_type": "markdown",
   "id": "b31dc59f-8696-4720-b82c-6ba7be533532",
   "metadata": {},
   "source": [
    "## Question 4\n",
    "\n",
    "Let's select the best `max_depth`:\n",
    "\n",
    "* Try different values of `max_depth`: `[10, 15, 20, 25]`\n",
    "* For each of these values,\n",
    "  * try different values of `n_estimators` from 10 till 200 (with step 10)\n",
    "  * calculate the mean RMSE\n",
    "* Fix the random seed: `random_state=1`\n",
    "\n",
    "\n",
    "What's the best `max_depth`, using the mean RMSE?\n",
    "\n",
    "* 10\n",
    "* 15\n",
    "* 20\n",
    "* 25\n",
    "\n",
    "**Answer: `10`**"
   ]
  },
  {
   "cell_type": "code",
   "execution_count": 38,
   "id": "3b2276e5-51e0-4259-8eb6-fcbfa019f3c4",
   "metadata": {},
   "outputs": [],
   "source": [
    "scores = []\n",
    "\n",
    "for d in [10, 15, 20, 25]:\n",
    "    for n in range(10, 201, 10):\n",
    "        rf = rf = RandomForestRegressor(max_depth=d, n_estimators=n, random_state=1, n_jobs=-1)\n",
    "        rf.fit(X_train, y_train)\n",
    "\n",
    "        y_pred = rf.predict(X_val)\n",
    "        rmse = np.sqrt(mean_squared_error(y_val, y_pred))\n",
    "        rmse = rmse.round(3)\n",
    "\n",
    "        scores.append((d, n, rmse))"
   ]
  },
  {
   "cell_type": "code",
   "execution_count": 39,
   "id": "fc524612-800b-411e-bf11-e8e345c9e0d2",
   "metadata": {},
   "outputs": [],
   "source": [
    "columns = ['max_depth', 'n_estimators', 'rmse']\n",
    "df_scores = pd.DataFrame(scores, columns=columns)"
   ]
  },
  {
   "cell_type": "code",
   "execution_count": 40,
   "id": "f4f64a13-3e67-45ec-ae07-af3dc3d5fdec",
   "metadata": {},
   "outputs": [
    {
     "data": {
      "text/html": [
       "<div>\n",
       "<style scoped>\n",
       "    .dataframe tbody tr th:only-of-type {\n",
       "        vertical-align: middle;\n",
       "    }\n",
       "\n",
       "    .dataframe tbody tr th {\n",
       "        vertical-align: top;\n",
       "    }\n",
       "\n",
       "    .dataframe thead th {\n",
       "        text-align: right;\n",
       "    }\n",
       "</style>\n",
       "<table border=\"1\" class=\"dataframe\">\n",
       "  <thead>\n",
       "    <tr style=\"text-align: right;\">\n",
       "      <th></th>\n",
       "      <th>max_depth</th>\n",
       "      <th>n_estimators</th>\n",
       "      <th>rmse</th>\n",
       "    </tr>\n",
       "  </thead>\n",
       "  <tbody>\n",
       "    <tr>\n",
       "      <th>0</th>\n",
       "      <td>10</td>\n",
       "      <td>10</td>\n",
       "      <td>41.073</td>\n",
       "    </tr>\n",
       "    <tr>\n",
       "      <th>1</th>\n",
       "      <td>10</td>\n",
       "      <td>20</td>\n",
       "      <td>40.853</td>\n",
       "    </tr>\n",
       "    <tr>\n",
       "      <th>2</th>\n",
       "      <td>10</td>\n",
       "      <td>30</td>\n",
       "      <td>40.623</td>\n",
       "    </tr>\n",
       "    <tr>\n",
       "      <th>3</th>\n",
       "      <td>10</td>\n",
       "      <td>40</td>\n",
       "      <td>40.334</td>\n",
       "    </tr>\n",
       "    <tr>\n",
       "      <th>4</th>\n",
       "      <td>10</td>\n",
       "      <td>50</td>\n",
       "      <td>40.320</td>\n",
       "    </tr>\n",
       "    <tr>\n",
       "      <th>...</th>\n",
       "      <td>...</td>\n",
       "      <td>...</td>\n",
       "      <td>...</td>\n",
       "    </tr>\n",
       "    <tr>\n",
       "      <th>75</th>\n",
       "      <td>25</td>\n",
       "      <td>160</td>\n",
       "      <td>40.450</td>\n",
       "    </tr>\n",
       "    <tr>\n",
       "      <th>76</th>\n",
       "      <td>25</td>\n",
       "      <td>170</td>\n",
       "      <td>40.467</td>\n",
       "    </tr>\n",
       "    <tr>\n",
       "      <th>77</th>\n",
       "      <td>25</td>\n",
       "      <td>180</td>\n",
       "      <td>40.471</td>\n",
       "    </tr>\n",
       "    <tr>\n",
       "      <th>78</th>\n",
       "      <td>25</td>\n",
       "      <td>190</td>\n",
       "      <td>40.460</td>\n",
       "    </tr>\n",
       "    <tr>\n",
       "      <th>79</th>\n",
       "      <td>25</td>\n",
       "      <td>200</td>\n",
       "      <td>40.446</td>\n",
       "    </tr>\n",
       "  </tbody>\n",
       "</table>\n",
       "<p>80 rows × 3 columns</p>\n",
       "</div>"
      ],
      "text/plain": [
       "    max_depth  n_estimators    rmse\n",
       "0          10            10  41.073\n",
       "1          10            20  40.853\n",
       "2          10            30  40.623\n",
       "3          10            40  40.334\n",
       "4          10            50  40.320\n",
       "..        ...           ...     ...\n",
       "75         25           160  40.450\n",
       "76         25           170  40.467\n",
       "77         25           180  40.471\n",
       "78         25           190  40.460\n",
       "79         25           200  40.446\n",
       "\n",
       "[80 rows x 3 columns]"
      ]
     },
     "execution_count": 40,
     "metadata": {},
     "output_type": "execute_result"
    }
   ],
   "source": [
    "df_scores"
   ]
  },
  {
   "cell_type": "code",
   "execution_count": 41,
   "id": "435153a5-2360-4731-977e-28b1c59f5ab1",
   "metadata": {},
   "outputs": [
    {
     "data": {
      "text/plain": [
       "max_depth\n",
       "10    40.36500\n",
       "15    40.63980\n",
       "20    40.68450\n",
       "25    40.61145\n",
       "Name: rmse, dtype: float64"
      ]
     },
     "execution_count": 41,
     "metadata": {},
     "output_type": "execute_result"
    }
   ],
   "source": [
    "# Calculate mean RMSE for each max_depth\n",
    "mean_rmse_by_depth = df_scores.groupby('max_depth')['rmse'].mean()\n",
    "mean_rmse_by_depth"
   ]
  },
  {
   "cell_type": "code",
   "execution_count": 42,
   "id": "4dae4432-880d-4df5-b901-cf5f8a39c903",
   "metadata": {},
   "outputs": [
    {
     "data": {
      "text/plain": [
       "10"
      ]
     },
     "execution_count": 42,
     "metadata": {},
     "output_type": "execute_result"
    }
   ],
   "source": [
    "# Find the best max_depth\n",
    "best_depth = mean_rmse_by_depth.idxmin()\n",
    "best_depth"
   ]
  },
  {
   "cell_type": "markdown",
   "id": "88e0cb09-167f-4284-be4e-19d86d7d10a6",
   "metadata": {},
   "source": [
    "# Question 5\n",
    "\n",
    "We can extract feature importance information from tree-based models.\n",
    "\n",
    "At each step of the decision tree learning algorithm, it finds the best split.\n",
    "When doing it, we can calculate \"gain\" - the reduction in impurity before and after the split.\n",
    "This gain is quite useful in understanding what are the important features for tree-based models.\n",
    "\n",
    "In Scikit-Learn, tree-based models contain this information in the\n",
    "[`feature_importances_`](https://scikit-learn.org/stable/modules/generated/sklearn.ensemble.RandomForestRegressor.html#sklearn.ensemble.RandomForestRegressor.feature_importances_)\n",
    "field.\n",
    "\n",
    "For this homework question, we'll find the most important feature:\n",
    "\n",
    "* Train the model with these parameters:\n",
    "  * `n_estimators=10`,\n",
    "  * `max_depth=20`,\n",
    "  * `random_state=1`,\n",
    "  * `n_jobs=-1` (optional)\n",
    "* Get the feature importance information from this model\n",
    "\n",
    "\n",
    "What's the most important feature (among these 4)?\n",
    "\n",
    "* `study_hours_per_week`\n",
    "* `attendance_rate`\n",
    "* `distance_to_school`\n",
    "* `teacher_quality`\n",
    "\n",
    "**Answer: `study_hours_per_week`**"
   ]
  },
  {
   "cell_type": "code",
   "execution_count": 43,
   "id": "9adbd24d-c02e-44db-9b42-8f3235c0790c",
   "metadata": {},
   "outputs": [
    {
     "data": {
      "text/plain": [
       "RandomForestRegressor(max_depth=20, n_estimators=10, n_jobs=-1, random_state=1)"
      ]
     },
     "execution_count": 43,
     "metadata": {},
     "output_type": "execute_result"
    }
   ],
   "source": [
    "rf = RandomForestRegressor(n_estimators=10,\n",
    "                                max_depth=20,\n",
    "                                random_state=1,\n",
    "                                n_jobs=-1)\n",
    "rf.fit(X_train, y_train)"
   ]
  },
  {
   "cell_type": "code",
   "execution_count": 44,
   "id": "4ccfb7cb-2553-490f-8311-c99b7c792aca",
   "metadata": {},
   "outputs": [
    {
     "data": {
      "text/plain": [
       "array([0.01093634, 0.01014068, 0.06981166, 0.03049321, 0.14898619,\n",
       "       0.13492521, 0.01018578, 0.01170238, 0.01063523, 0.0088544 ,\n",
       "       0.01757751, 0.01215927, 0.01102292, 0.01163625, 0.01497637,\n",
       "       0.01496113, 0.01423605, 0.02199681, 0.01400047, 0.01108758,\n",
       "       0.00998864, 0.00825745, 0.0095368 , 0.007989  , 0.02570122,\n",
       "       0.00975894, 0.00986943, 0.24633057, 0.08224251])"
      ]
     },
     "execution_count": 44,
     "metadata": {},
     "output_type": "execute_result"
    }
   ],
   "source": [
    "rf.feature_importances_"
   ]
  },
  {
   "cell_type": "code",
   "execution_count": 45,
   "id": "875c577e-5a22-4229-87f4-6df2238125b6",
   "metadata": {},
   "outputs": [
    {
     "data": {
      "text/plain": [
       "['access_to_learning_materials=No',\n",
       " 'access_to_learning_materials=Yes',\n",
       " 'age',\n",
       " 'assignments_completed',\n",
       " 'attendance_rate',\n",
       " 'distance_to_school',\n",
       " 'extra_tutorials=No',\n",
       " 'extra_tutorials=Yes',\n",
       " 'gender=Female',\n",
       " 'gender=Male',\n",
       " 'it_knowledge=High',\n",
       " 'it_knowledge=Low',\n",
       " 'it_knowledge=Medium',\n",
       " 'parent_education_level=None',\n",
       " 'parent_education_level=Primary',\n",
       " 'parent_education_level=Secondary',\n",
       " 'parent_education_level=Tertiary',\n",
       " 'parent_involvement=High',\n",
       " 'parent_involvement=Low',\n",
       " 'parent_involvement=Medium',\n",
       " 'school_location=Rural',\n",
       " 'school_location=Urban',\n",
       " 'school_type=Private',\n",
       " 'school_type=Public',\n",
       " 'socioeconomic_status=High',\n",
       " 'socioeconomic_status=Low',\n",
       " 'socioeconomic_status=Medium',\n",
       " 'study_hours_per_week',\n",
       " 'teacher_quality']"
      ]
     },
     "execution_count": 45,
     "metadata": {},
     "output_type": "execute_result"
    }
   ],
   "source": [
    "feature_names = list(dv.get_feature_names_out())\n",
    "feature_names"
   ]
  },
  {
   "cell_type": "code",
   "execution_count": 46,
   "id": "69cfc430-df0c-4efa-846a-c2661db8d796",
   "metadata": {},
   "outputs": [
    {
     "data": {
      "text/plain": [
       "<zip at 0x7fee662b0580>"
      ]
     },
     "execution_count": 46,
     "metadata": {},
     "output_type": "execute_result"
    }
   ],
   "source": [
    "zip(feature_names, rf.feature_importances_)"
   ]
  },
  {
   "cell_type": "code",
   "execution_count": 47,
   "id": "5d6d84f7-ba77-418d-80f3-271590650057",
   "metadata": {},
   "outputs": [
    {
     "name": "stdout",
     "output_type": "stream",
     "text": [
      "                             feature  importance\n",
      "27              study_hours_per_week    0.246331\n",
      "4                    attendance_rate    0.148986\n",
      "5                 distance_to_school    0.134925\n",
      "28                   teacher_quality    0.082243\n",
      "2                                age    0.069812\n",
      "3              assignments_completed    0.030493\n",
      "24         socioeconomic_status=High    0.025701\n",
      "17           parent_involvement=High    0.021997\n",
      "10                 it_knowledge=High    0.017578\n",
      "14    parent_education_level=Primary    0.014976\n",
      "15  parent_education_level=Secondary    0.014961\n",
      "16   parent_education_level=Tertiary    0.014236\n",
      "18            parent_involvement=Low    0.014000\n",
      "11                  it_knowledge=Low    0.012159\n",
      "7                extra_tutorials=Yes    0.011702\n",
      "13       parent_education_level=None    0.011636\n",
      "19         parent_involvement=Medium    0.011088\n",
      "12               it_knowledge=Medium    0.011023\n",
      "0    access_to_learning_materials=No    0.010936\n",
      "8                      gender=Female    0.010635\n",
      "6                 extra_tutorials=No    0.010186\n",
      "1   access_to_learning_materials=Yes    0.010141\n",
      "20             school_location=Rural    0.009989\n",
      "26       socioeconomic_status=Medium    0.009869\n",
      "25          socioeconomic_status=Low    0.009759\n",
      "22               school_type=Private    0.009537\n",
      "9                        gender=Male    0.008854\n",
      "21             school_location=Urban    0.008257\n",
      "23                school_type=Public    0.007989\n"
     ]
    }
   ],
   "source": [
    "# Create the DataFrame\n",
    "feature_importances_df = pd.DataFrame(zip(feature_names, rf.feature_importances_), columns=['feature', 'importance'])\n",
    "\n",
    "print(feature_importances_df.sort_values(by='importance', ascending=False))"
   ]
  },
  {
   "cell_type": "code",
   "execution_count": 48,
   "id": "9a95a4f6-5ac6-4fa0-9cbe-2f96abd8988a",
   "metadata": {},
   "outputs": [
    {
     "name": "stdout",
     "output_type": "stream",
     "text": [
      "                 feature  importance\n",
      "27  study_hours_per_week    0.246331\n",
      "4        attendance_rate    0.148986\n",
      "5     distance_to_school    0.134925\n",
      "28       teacher_quality    0.082243\n"
     ]
    }
   ],
   "source": [
    "# List of features to filter by\n",
    "selected_features = ['study_hours_per_week', 'attendance_rate', 'distance_to_school', 'teacher_quality']\n",
    "\n",
    "# Filter the DataFrame\n",
    "filtered_df = feature_importances_df[feature_importances_df['feature'].isin(selected_features)]\n",
    "\n",
    "print(filtered_df.sort_values(by='importance', ascending=False))\n"
   ]
  },
  {
   "cell_type": "markdown",
   "id": "028328dd-ce90-4f13-b06c-872bf9415438",
   "metadata": {},
   "source": [
    "## Question 6\n",
    "\n",
    "Now let's train an XGBoost model! For this question, we'll tune the `eta` parameter:\n",
    "\n",
    "* Install XGBoost\n",
    "* Create DMatrix for train and validation\n",
    "* Create a watchlist\n",
    "* Train a model with these parameters for 100 rounds:\n",
    "\n",
    "```\n",
    "xgb_params = {\n",
    "    'eta': 0.3,\n",
    "    'max_depth': 6,\n",
    "    'min_child_weight': 1,\n",
    "\n",
    "    'objective': 'reg:squarederror',\n",
    "    'nthread': 8,\n",
    "\n",
    "    'seed': 1,\n",
    "    'verbosity': 1,\n",
    "}\n",
    "```\n",
    "\n",
    "Now change `eta` from `0.3` to `0.1`.\n",
    "\n",
    "Which eta leads to the best RMSE score on the validation dataset?\n",
    "\n",
    "* 0.3\n",
    "* 0.1\n",
    "* Both give equal value\n",
    "\n",
    "\n",
    "**Answer: `0.1`**"
   ]
  },
  {
   "cell_type": "code",
   "execution_count": 49,
   "id": "c4e21aac-5c3c-49b0-ade6-bf300d2c6c9a",
   "metadata": {},
   "outputs": [],
   "source": [
    "features = list(dv.get_feature_names_out())\n",
    "dtrain = xgb.DMatrix(X_train, label=y_train, feature_names=features)\n",
    "dval = xgb.DMatrix(X_val, label=y_val, feature_names=features)"
   ]
  },
  {
   "cell_type": "code",
   "execution_count": 50,
   "id": "3209a531-7c93-4a4d-ac28-c80ca2be0d4e",
   "metadata": {},
   "outputs": [],
   "source": [
    "watchlist = [(dtrain, 'train'), (dval, 'val')]"
   ]
  },
  {
   "cell_type": "code",
   "execution_count": 58,
   "id": "a4b7f9bc-a29d-4e45-877e-f56c3479f849",
   "metadata": {
    "tags": []
   },
   "outputs": [],
   "source": [
    "scores = {}"
   ]
  },
  {
   "cell_type": "code",
   "execution_count": 64,
   "id": "ee95dccc-5a50-4997-bb2b-664c592e3ac5",
   "metadata": {},
   "outputs": [],
   "source": [
    "%%capture output\n",
    "\n",
    "xgb_params = {\n",
    "    'eta': 0.1,\n",
    "    'max_depth': 6,\n",
    "    'min_child_weight': 1,\n",
    "\n",
    "    'objective': 'reg:squarederror',\n",
    "    'eval_metric': 'rmse',\n",
    "    'nthread': 8,\n",
    "\n",
    "    'seed': 1,\n",
    "    'verbosity': 1,\n",
    "}\n",
    "\n",
    "model = xgb.train(xgb_params, dtrain, num_boost_round=100,\n",
    "                 verbose_eval=5,\n",
    "                  evals=watchlist)"
   ]
  },
  {
   "cell_type": "code",
   "execution_count": 60,
   "id": "008ba277-b1f3-48a3-994c-1df2b90028d7",
   "metadata": {},
   "outputs": [],
   "source": [
    "def parse_xgb_output(output):\n",
    "    results = []\n",
    "\n",
    "    for line in output.stdout.strip().split('\\n'):\n",
    "        it_line, train_line, val_line = line.split('\\t')\n",
    "\n",
    "        it = int(it_line.strip('[]'))\n",
    "        train = float(train_line.split(':')[1])\n",
    "        val = float(val_line.split(':')[1])\n",
    "\n",
    "        results.append((it, train, val))\n",
    "\n",
    "    columns = ['num_iter', 'train_rmse', 'val_rmse']\n",
    "    df_results = pd.DataFrame(results, columns=columns)\n",
    "    return df_results"
   ]
  },
  {
   "cell_type": "code",
   "execution_count": 65,
   "id": "cfbb227b-c4dd-4d19-9241-4dd5256addbe",
   "metadata": {},
   "outputs": [
    {
     "data": {
      "text/plain": [
       "'eta=0.1'"
      ]
     },
     "execution_count": 65,
     "metadata": {},
     "output_type": "execute_result"
    }
   ],
   "source": [
    "key = 'eta=%s' % (xgb_params['eta'])\n",
    "scores[key] = parse_xgb_output(output)\n",
    "key"
   ]
  },
  {
   "cell_type": "code",
   "execution_count": 66,
   "id": "98a222d0-6d6f-4546-9f34-5af95c131780",
   "metadata": {},
   "outputs": [
    {
     "data": {
      "text/plain": [
       "dict_keys(['eta=0.3', 'eta=0.1'])"
      ]
     },
     "execution_count": 66,
     "metadata": {},
     "output_type": "execute_result"
    }
   ],
   "source": [
    "scores.keys()"
   ]
  },
  {
   "cell_type": "code",
   "execution_count": 67,
   "id": "51d9e93f-bea9-4e78-bb2f-f4cdba48281d",
   "metadata": {},
   "outputs": [
    {
     "data": {
      "text/plain": [
       "{'eta=0.3':     num_iter  train_rmse  val_rmse\n",
       " 0          0    42.69384  44.89114\n",
       " 1          5    34.57756  40.69096\n",
       " 2         10    31.63404  40.48319\n",
       " 3         15    29.41497  40.86107\n",
       " 4         20    27.49658  41.27921\n",
       " 5         25    26.34353  41.57975\n",
       " 6         30    24.21076  41.72928\n",
       " 7         35    22.46394  42.03417\n",
       " 8         40    21.35340  42.24363\n",
       " 9         45    20.24355  42.27966\n",
       " 10        50    19.25157  42.43824\n",
       " 11        55    18.28398  42.54750\n",
       " 12        60    17.12178  42.64446\n",
       " 13        65    16.41573  42.77416\n",
       " 14        70    15.78314  42.84909\n",
       " 15        75    14.80007  43.00760\n",
       " 16        80    13.96907  43.08250\n",
       " 17        85    13.39102  43.16297\n",
       " 18        90    12.46485  43.25161\n",
       " 19        95    11.95568  43.37919\n",
       " 20        99    11.39140  43.41882,\n",
       " 'eta=0.1':     num_iter  train_rmse  val_rmse\n",
       " 0          0    45.49999  47.00533\n",
       " 1          5    40.17514  43.11181\n",
       " 2         10    37.07490  41.39235\n",
       " 3         15    35.08521  40.61341\n",
       " 4         20    33.67389  40.25010\n",
       " 5         25    32.55850  40.12003\n",
       " 6         30    31.76039  40.13806\n",
       " 7         35    31.01425  40.16103\n",
       " 8         40    30.13427  40.17753\n",
       " 9         45    29.49040  40.27366\n",
       " 10        50    28.75947  40.29573\n",
       " 11        55    28.17535  40.40072\n",
       " 12        60    27.77264  40.47477\n",
       " 13        65    27.10119  40.47659\n",
       " 14        70    26.61847  40.55225\n",
       " 15        75    26.21281  40.62564\n",
       " 16        80    25.69135  40.61309\n",
       " 17        85    25.14363  40.66530\n",
       " 18        90    24.60413  40.84708\n",
       " 19        95    24.03404  40.99952\n",
       " 20        99    23.59704  41.05034}"
      ]
     },
     "execution_count": 67,
     "metadata": {},
     "output_type": "execute_result"
    }
   ],
   "source": [
    "scores"
   ]
  },
  {
   "cell_type": "code",
   "execution_count": 68,
   "id": "7c672e00-2b6d-4bc5-a7cb-f29a2be68333",
   "metadata": {},
   "outputs": [
    {
     "data": {
      "text/plain": [
       "<matplotlib.legend.Legend at 0x7fee181ff580>"
      ]
     },
     "execution_count": 68,
     "metadata": {},
     "output_type": "execute_result"
    },
    {
     "data": {
      "image/png": "[encoded data removed]",
      "text/plain": [
       "<Figure size 640x480 with 1 Axes>"
      ]
     },
     "metadata": {},
     "output_type": "display_data"
    }
   ],
   "source": [
    "etas = ['eta=0.3', 'eta=0.1']\n",
    "\n",
    "for eta in etas:\n",
    "    df_score = scores[eta]\n",
    "    plt.plot(df_score.num_iter, df_score.val_rmse, label=eta)\n",
    "\n",
    "plt.legend()"
   ]
  },
  {
   "cell_type": "code",
   "execution_count": null,
   "id": "e9d6ef42-7c82-4b9e-ba1a-698edf0593e4",
   "metadata": {},
   "outputs": [],
   "source": []
  }
 ],
 "metadata": {
  "kernelspec": {
   "display_name": "Python 3 (ipykernel)",
   "language": "python",
   "name": "python3"
  },
  "language_info": {
   "codemirror_mode": {
    "name": "ipython",
    "version": 3
   },
   "file_extension": ".py",
   "mimetype": "text/x-python",
   "name": "python",
   "nbconvert_exporter": "python",
   "pygments_lexer": "ipython3",
   "version": "3.9.13"
  }
 },
 "nbformat": 4,
 "nbformat_minor": 5
}
