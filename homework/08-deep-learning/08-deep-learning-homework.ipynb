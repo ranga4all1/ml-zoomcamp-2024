{
 "cells": [
  {
   "cell_type": "markdown",
   "id": "9a8f5ddf-8338-4dfc-8277-9d751b90917a",
   "metadata": {},
   "source": [
    "## Homework : 08-deep-learning\n",
    "\n",
    "> **Note**: it's very likely that in this homework your answers won't match \n",
    "> the options exactly. That's okay and expected. Select the option that's\n",
    "> closest to your solution.\n",
    "\n",
    "### Dataset\n",
    "\n",
    "In this homework, we'll build a model for classifying various hair types. \n",
    "For this, we will use the Hair Type dataset that was obtained from \n",
    "[Kaggle](https://www.kaggle.com/datasets/kavyasreeb/hair-type-dataset) \n",
    "and slightly rebuilt. \n",
    "\n",
    "You can download the target dataset for this homework from \n",
    "[here](https://github.com/SVizor42/ML_Zoomcamp/releases/download/straight-curly-data/data.zip):\n",
    "\n",
    "```bash\n",
    "wget https://github.com/SVizor42/ML_Zoomcamp/releases/download/straight-curly-data/data.zip\n",
    "unzip data.zip\n",
    "```\n",
    "\n",
    "In the lectures we saw how to use a pre-trained neural network. In the homework, we'll train a much smaller model from scratch. \n",
    "\n",
    "> **Note:** you will need an environment with a GPU for this homework. We recommend to use [Saturn Cloud](https://bit.ly/saturn-mlzoomcamp). \n",
    "> You can also use a computer without a GPU (e.g. your laptop), but it will be slower.\n",
    "\n",
    "\n",
    "### Data Preparation\n",
    "\n",
    "The dataset contains around 1000 images of hairs in the separate folders \n",
    "for training and test sets. \n",
    "\n",
    "### Reproducibility\n",
    "\n",
    "Reproducibility in deep learning is a multifaceted challenge that requires attention \n",
    "to both software and hardware details. In some cases, we can't guarantee exactly \n",
    "the same results during the same experiment runs. Therefore, in this homework we suggest to:\n",
    "* install tensorflow version 2.17.1\n",
    "* set the seed generators by:\n",
    "\n",
    "```python\n",
    "import numpy as np\n",
    "import tensorflow as tf\n",
    "\n",
    "SEED = 42\n",
    "np.random.seed(SEED)\n",
    "tf.random.set_seed(SEED)\n",
    "```"
   ]
  },
  {
   "cell_type": "code",
   "execution_count": 1,
   "id": "554712d4-65b3-4b79-b07b-80643c3dee83",
   "metadata": {
    "execution": {
     "iopub.execute_input": "2024-12-05T20:44:59.632794Z",
     "iopub.status.busy": "2024-12-05T20:44:59.632545Z",
     "iopub.status.idle": "2024-12-05T20:45:01.074787Z",
     "shell.execute_reply": "2024-12-05T20:45:01.074218Z",
     "shell.execute_reply.started": "2024-12-05T20:44:59.632774Z"
    }
   },
   "outputs": [
    {
     "name": "stdout",
     "output_type": "stream",
     "text": [
      "Requirement already satisfied: tensorflow==2.17.1 in /opt/saturncloud/envs/saturn/lib/python3.12/site-packages (2.17.1)\n",
      "Requirement already satisfied: absl-py>=1.0.0 in /opt/saturncloud/envs/saturn/lib/python3.12/site-packages (from tensorflow==2.17.1) (2.1.0)\n",
      "Requirement already satisfied: astunparse>=1.6.0 in /opt/saturncloud/envs/saturn/lib/python3.12/site-packages (from tensorflow==2.17.1) (1.6.3)\n",
      "Requirement already satisfied: flatbuffers>=24.3.25 in /opt/saturncloud/envs/saturn/lib/python3.12/site-packages (from tensorflow==2.17.1) (24.3.25)\n",
      "Requirement already satisfied: gast!=0.5.0,!=0.5.1,!=0.5.2,>=0.2.1 in /opt/saturncloud/envs/saturn/lib/python3.12/site-packages (from tensorflow==2.17.1) (0.6.0)\n",
      "Requirement already satisfied: google-pasta>=0.1.1 in /opt/saturncloud/envs/saturn/lib/python3.12/site-packages (from tensorflow==2.17.1) (0.2.0)\n",
      "Requirement already satisfied: h5py>=3.10.0 in /opt/saturncloud/envs/saturn/lib/python3.12/site-packages (from tensorflow==2.17.1) (3.12.1)\n",
      "Requirement already satisfied: libclang>=13.0.0 in /opt/saturncloud/envs/saturn/lib/python3.12/site-packages (from tensorflow==2.17.1) (18.1.1)\n",
      "Requirement already satisfied: ml-dtypes<0.5.0,>=0.3.1 in /opt/saturncloud/envs/saturn/lib/python3.12/site-packages (from tensorflow==2.17.1) (0.4.1)\n",
      "Requirement already satisfied: opt-einsum>=2.3.2 in /opt/saturncloud/envs/saturn/lib/python3.12/site-packages (from tensorflow==2.17.1) (3.4.0)\n",
      "Requirement already satisfied: packaging in /opt/saturncloud/envs/saturn/lib/python3.12/site-packages (from tensorflow==2.17.1) (24.2)\n",
      "Requirement already satisfied: protobuf!=4.21.0,!=4.21.1,!=4.21.2,!=4.21.3,!=4.21.4,!=4.21.5,<5.0.0dev,>=3.20.3 in /opt/saturncloud/envs/saturn/lib/python3.12/site-packages (from tensorflow==2.17.1) (4.25.5)\n",
      "Requirement already satisfied: requests<3,>=2.21.0 in /opt/saturncloud/envs/saturn/lib/python3.12/site-packages (from tensorflow==2.17.1) (2.32.3)\n",
      "Requirement already satisfied: setuptools in /opt/saturncloud/envs/saturn/lib/python3.12/site-packages (from tensorflow==2.17.1) (75.6.0)\n",
      "Requirement already satisfied: six>=1.12.0 in /opt/saturncloud/envs/saturn/lib/python3.12/site-packages (from tensorflow==2.17.1) (1.16.0)\n",
      "Requirement already satisfied: termcolor>=1.1.0 in /opt/saturncloud/envs/saturn/lib/python3.12/site-packages (from tensorflow==2.17.1) (2.5.0)\n",
      "Requirement already satisfied: typing-extensions>=3.6.6 in /opt/saturncloud/envs/saturn/lib/python3.12/site-packages (from tensorflow==2.17.1) (4.12.2)\n",
      "Requirement already satisfied: wrapt>=1.11.0 in /opt/saturncloud/envs/saturn/lib/python3.12/site-packages (from tensorflow==2.17.1) (1.17.0)\n",
      "Requirement already satisfied: grpcio<2.0,>=1.24.3 in /opt/saturncloud/envs/saturn/lib/python3.12/site-packages (from tensorflow==2.17.1) (1.67.1)\n",
      "Requirement already satisfied: tensorboard<2.18,>=2.17 in /opt/saturncloud/envs/saturn/lib/python3.12/site-packages (from tensorflow==2.17.1) (2.17.1)\n",
      "Requirement already satisfied: keras>=3.2.0 in /opt/saturncloud/envs/saturn/lib/python3.12/site-packages (from tensorflow==2.17.1) (3.7.0)\n",
      "Requirement already satisfied: numpy<2.0.0,>=1.26.0 in /opt/saturncloud/envs/saturn/lib/python3.12/site-packages (from tensorflow==2.17.1) (1.26.4)\n",
      "Requirement already satisfied: wheel<1.0,>=0.23.0 in /opt/saturncloud/envs/saturn/lib/python3.12/site-packages (from astunparse>=1.6.0->tensorflow==2.17.1) (0.45.1)\n",
      "Requirement already satisfied: rich in /opt/saturncloud/envs/saturn/lib/python3.12/site-packages (from keras>=3.2.0->tensorflow==2.17.1) (13.9.4)\n",
      "Requirement already satisfied: namex in /opt/saturncloud/envs/saturn/lib/python3.12/site-packages (from keras>=3.2.0->tensorflow==2.17.1) (0.0.8)\n",
      "Requirement already satisfied: optree in /opt/saturncloud/envs/saturn/lib/python3.12/site-packages (from keras>=3.2.0->tensorflow==2.17.1) (0.13.1)\n",
      "Requirement already satisfied: charset-normalizer<4,>=2 in /opt/saturncloud/envs/saturn/lib/python3.12/site-packages (from requests<3,>=2.21.0->tensorflow==2.17.1) (3.4.0)\n",
      "Requirement already satisfied: idna<4,>=2.5 in /opt/saturncloud/envs/saturn/lib/python3.12/site-packages (from requests<3,>=2.21.0->tensorflow==2.17.1) (3.10)\n",
      "Requirement already satisfied: urllib3<3,>=1.21.1 in /opt/saturncloud/envs/saturn/lib/python3.12/site-packages (from requests<3,>=2.21.0->tensorflow==2.17.1) (2.2.3)\n",
      "Requirement already satisfied: certifi>=2017.4.17 in /opt/saturncloud/envs/saturn/lib/python3.12/site-packages (from requests<3,>=2.21.0->tensorflow==2.17.1) (2024.8.30)\n",
      "Requirement already satisfied: markdown>=2.6.8 in /opt/saturncloud/envs/saturn/lib/python3.12/site-packages (from tensorboard<2.18,>=2.17->tensorflow==2.17.1) (3.6)\n",
      "Requirement already satisfied: tensorboard-data-server<0.8.0,>=0.7.0 in /opt/saturncloud/envs/saturn/lib/python3.12/site-packages (from tensorboard<2.18,>=2.17->tensorflow==2.17.1) (0.7.0)\n",
      "Requirement already satisfied: werkzeug>=1.0.1 in /opt/saturncloud/envs/saturn/lib/python3.12/site-packages (from tensorboard<2.18,>=2.17->tensorflow==2.17.1) (3.1.3)\n",
      "Requirement already satisfied: MarkupSafe>=2.1.1 in /opt/saturncloud/envs/saturn/lib/python3.12/site-packages (from werkzeug>=1.0.1->tensorboard<2.18,>=2.17->tensorflow==2.17.1) (3.0.2)\n",
      "Requirement already satisfied: markdown-it-py>=2.2.0 in /opt/saturncloud/envs/saturn/lib/python3.12/site-packages (from rich->keras>=3.2.0->tensorflow==2.17.1) (3.0.0)\n",
      "Requirement already satisfied: pygments<3.0.0,>=2.13.0 in /opt/saturncloud/envs/saturn/lib/python3.12/site-packages (from rich->keras>=3.2.0->tensorflow==2.17.1) (2.18.0)\n",
      "Requirement already satisfied: mdurl~=0.1 in /opt/saturncloud/envs/saturn/lib/python3.12/site-packages (from markdown-it-py>=2.2.0->rich->keras>=3.2.0->tensorflow==2.17.1) (0.1.2)\n"
     ]
    }
   ],
   "source": [
    "! pip install tensorflow==2.17.1"
   ]
  },
  {
   "cell_type": "code",
   "execution_count": 2,
   "id": "c35230fa-cc86-4815-a569-99befdb9ce28",
   "metadata": {
    "execution": {
     "iopub.execute_input": "2024-12-05T20:45:01.076204Z",
     "iopub.status.busy": "2024-12-05T20:45:01.075585Z",
     "iopub.status.idle": "2024-12-05T20:45:03.712117Z",
     "shell.execute_reply": "2024-12-05T20:45:03.711584Z",
     "shell.execute_reply.started": "2024-12-05T20:45:01.076170Z"
    }
   },
   "outputs": [
    {
     "name": "stderr",
     "output_type": "stream",
     "text": [
      "2024-12-05 20:45:01.393040: I tensorflow/core/util/port.cc:153] oneDNN custom operations are on. You may see slightly different numerical results due to floating-point round-off errors from different computation orders. To turn them off, set the environment variable `TF_ENABLE_ONEDNN_OPTS=0`.\n",
      "2024-12-05 20:45:01.411051: E external/local_xla/xla/stream_executor/cuda/cuda_fft.cc:485] Unable to register cuFFT factory: Attempting to register factory for plugin cuFFT when one has already been registered\n",
      "2024-12-05 20:45:01.430517: E external/local_xla/xla/stream_executor/cuda/cuda_dnn.cc:8454] Unable to register cuDNN factory: Attempting to register factory for plugin cuDNN when one has already been registered\n",
      "2024-12-05 20:45:01.436370: E external/local_xla/xla/stream_executor/cuda/cuda_blas.cc:1452] Unable to register cuBLAS factory: Attempting to register factory for plugin cuBLAS when one has already been registered\n",
      "2024-12-05 20:45:01.450267: I tensorflow/core/platform/cpu_feature_guard.cc:210] This TensorFlow binary is optimized to use available CPU instructions in performance-critical operations.\n",
      "To enable the following instructions: AVX2 AVX512F AVX512_VNNI FMA, in other operations, rebuild TensorFlow with the appropriate compiler flags.\n",
      "2024-12-05 20:45:02.258447: W tensorflow/compiler/tf2tensorrt/utils/py_utils.cc:38] TF-TRT Warning: Could not find TensorRT\n"
     ]
    }
   ],
   "source": [
    "import numpy as np\n",
    "import statistics\n",
    "\n",
    "import tensorflow as tf\n",
    "from tensorflow.keras import layers, models\n",
    "from tensorflow.keras.optimizers import SGD\n",
    "from tensorflow.keras.preprocessing.image import ImageDataGenerator"
   ]
  },
  {
   "cell_type": "code",
   "execution_count": 3,
   "id": "f9a0a5aa-da72-4b45-a722-2333e759f68f",
   "metadata": {
    "execution": {
     "iopub.execute_input": "2024-12-05T20:45:03.713372Z",
     "iopub.status.busy": "2024-12-05T20:45:03.712806Z",
     "iopub.status.idle": "2024-12-05T20:45:03.717158Z",
     "shell.execute_reply": "2024-12-05T20:45:03.716704Z",
     "shell.execute_reply.started": "2024-12-05T20:45:03.713339Z"
    }
   },
   "outputs": [],
   "source": [
    "SEED = 42\n",
    "np.random.seed(SEED)\n",
    "tf.random.set_seed(SEED)"
   ]
  },
  {
   "cell_type": "code",
   "execution_count": 4,
   "id": "7ad054d1-7757-4d50-b3af-f8667a88543f",
   "metadata": {
    "execution": {
     "iopub.execute_input": "2024-12-05T20:45:03.718031Z",
     "iopub.status.busy": "2024-12-05T20:45:03.717725Z",
     "iopub.status.idle": "2024-12-05T20:45:03.724640Z",
     "shell.execute_reply": "2024-12-05T20:45:03.724150Z",
     "shell.execute_reply.started": "2024-12-05T20:45:03.718010Z"
    }
   },
   "outputs": [
    {
     "data": {
      "text/plain": [
       "'2.17.1'"
      ]
     },
     "execution_count": 4,
     "metadata": {},
     "output_type": "execute_result"
    }
   ],
   "source": [
    "tf.__version__"
   ]
  },
  {
   "cell_type": "markdown",
   "id": "3f327306-1aa1-49ce-a991-0d99359263d1",
   "metadata": {},
   "source": [
    "### Model\n",
    "\n",
    "For this homework we will use Convolutional Neural Network (CNN). Like in the lectures, we'll use Keras.\n",
    "\n",
    "You need to develop the model with following structure:\n",
    "\n",
    "* The shape for input should be `(200, 200, 3)`\n",
    "* Next, create a convolutional layer ([`Conv2D`](https://keras.io/api/layers/convolution_layers/convolution2d/)):\n",
    "    * Use 32 filters\n",
    "    * Kernel size should be `(3, 3)` (that's the size of the filter)\n",
    "    * Use `'relu'` as activation \n",
    "* Reduce the size of the feature map with max pooling ([`MaxPooling2D`](https://keras.io/api/layers/pooling_layers/max_pooling2d/))\n",
    "    * Set the pooling size to `(2, 2)`\n",
    "* Turn the multi-dimensional result into vectors using a [`Flatten`](https://keras.io/api/layers/reshaping_layers/flatten/) layer\n",
    "* Next, add a `Dense` layer with 64 neurons and `'relu'` activation\n",
    "* Finally, create the `Dense` layer with 1 neuron - this will be the output\n",
    "    * The output layer should have an activation - use the appropriate activation for the binary classification case\n",
    "\n",
    "As optimizer use [`SGD`](https://keras.io/api/optimizers/sgd/) with the following parameters:\n",
    "\n",
    "* `SGD(lr=0.002, momentum=0.8)`\n",
    "\n",
    "For clarification about kernel size and max pooling, check [Office Hours](https://www.youtube.com/watch?v=1WRgdBTUaAc).\n"
   ]
  },
  {
   "cell_type": "code",
   "execution_count": 5,
   "id": "5bc6b861-a311-4675-a021-eabe8bdb5dfa",
   "metadata": {
    "execution": {
     "iopub.execute_input": "2024-12-05T20:45:03.725491Z",
     "iopub.status.busy": "2024-12-05T20:45:03.725264Z",
     "iopub.status.idle": "2024-12-05T20:45:03.729869Z",
     "shell.execute_reply": "2024-12-05T20:45:03.729355Z",
     "shell.execute_reply.started": "2024-12-05T20:45:03.725473Z"
    }
   },
   "outputs": [],
   "source": [
    "def create_cnn_model():\n",
    "    model = models.Sequential()\n",
    "\n",
    "    # Convolutional layers\n",
    "    model.add(layers.Conv2D(32, (3, 3), activation='relu', input_shape=(200, 200, 3)))\n",
    "    model.add(layers.MaxPooling2D((2, 2)))\n",
    "\n",
    "    # Flatten the feature maps\n",
    "    model.add(layers.Flatten())\n",
    "\n",
    "    # Fully connected layers\n",
    "    model.add(layers.Dense(64, activation='relu'))\n",
    "    model.add(layers.Dense(1, activation='sigmoid'))  # Binary classification output layer\n",
    "\n",
    "    return model"
   ]
  },
  {
   "cell_type": "code",
   "execution_count": 6,
   "id": "abf753db-7938-493b-9c45-644e102e590d",
   "metadata": {
    "execution": {
     "iopub.execute_input": "2024-12-05T20:45:03.731796Z",
     "iopub.status.busy": "2024-12-05T20:45:03.731540Z",
     "iopub.status.idle": "2024-12-05T20:45:04.936302Z",
     "shell.execute_reply": "2024-12-05T20:45:04.935700Z",
     "shell.execute_reply.started": "2024-12-05T20:45:03.731778Z"
    }
   },
   "outputs": [
    {
     "name": "stderr",
     "output_type": "stream",
     "text": [
      "/opt/saturncloud/envs/saturn/lib/python3.12/site-packages/keras/src/layers/convolutional/base_conv.py:107: UserWarning: Do not pass an `input_shape`/`input_dim` argument to a layer. When using Sequential models, prefer using an `Input(shape)` object as the first layer in the model instead.\n",
      "  super().__init__(activity_regularizer=activity_regularizer, **kwargs)\n",
      "WARNING: All log messages before absl::InitializeLog() is called are written to STDERR\n",
      "I0000 00:00:1733431503.778180   14665 cuda_executor.cc:1015] successful NUMA node read from SysFS had negative value (-1), but there must be at least one NUMA node, so returning NUMA node zero. See more at https://github.com/torvalds/linux/blob/v6.0/Documentation/ABI/testing/sysfs-bus-pci#L344-L355\n",
      "I0000 00:00:1733431503.829435   14665 cuda_executor.cc:1015] successful NUMA node read from SysFS had negative value (-1), but there must be at least one NUMA node, so returning NUMA node zero. See more at https://github.com/torvalds/linux/blob/v6.0/Documentation/ABI/testing/sysfs-bus-pci#L344-L355\n",
      "I0000 00:00:1733431503.829692   14665 cuda_executor.cc:1015] successful NUMA node read from SysFS had negative value (-1), but there must be at least one NUMA node, so returning NUMA node zero. See more at https://github.com/torvalds/linux/blob/v6.0/Documentation/ABI/testing/sysfs-bus-pci#L344-L355\n",
      "I0000 00:00:1733431503.830690   14665 cuda_executor.cc:1015] successful NUMA node read from SysFS had negative value (-1), but there must be at least one NUMA node, so returning NUMA node zero. See more at https://github.com/torvalds/linux/blob/v6.0/Documentation/ABI/testing/sysfs-bus-pci#L344-L355\n",
      "I0000 00:00:1733431503.830918   14665 cuda_executor.cc:1015] successful NUMA node read from SysFS had negative value (-1), but there must be at least one NUMA node, so returning NUMA node zero. See more at https://github.com/torvalds/linux/blob/v6.0/Documentation/ABI/testing/sysfs-bus-pci#L344-L355\n",
      "I0000 00:00:1733431503.831063   14665 cuda_executor.cc:1015] successful NUMA node read from SysFS had negative value (-1), but there must be at least one NUMA node, so returning NUMA node zero. See more at https://github.com/torvalds/linux/blob/v6.0/Documentation/ABI/testing/sysfs-bus-pci#L344-L355\n",
      "I0000 00:00:1733431503.914466   14665 cuda_executor.cc:1015] successful NUMA node read from SysFS had negative value (-1), but there must be at least one NUMA node, so returning NUMA node zero. See more at https://github.com/torvalds/linux/blob/v6.0/Documentation/ABI/testing/sysfs-bus-pci#L344-L355\n",
      "I0000 00:00:1733431503.914683   14665 cuda_executor.cc:1015] successful NUMA node read from SysFS had negative value (-1), but there must be at least one NUMA node, so returning NUMA node zero. See more at https://github.com/torvalds/linux/blob/v6.0/Documentation/ABI/testing/sysfs-bus-pci#L344-L355\n",
      "I0000 00:00:1733431503.914880   14665 cuda_executor.cc:1015] successful NUMA node read from SysFS had negative value (-1), but there must be at least one NUMA node, so returning NUMA node zero. See more at https://github.com/torvalds/linux/blob/v6.0/Documentation/ABI/testing/sysfs-bus-pci#L344-L355\n",
      "2024-12-05 20:45:03.914997: I tensorflow/core/common_runtime/gpu/gpu_device.cc:2021] Created device /job:localhost/replica:0/task:0/device:GPU:0 with 13942 MB memory:  -> device: 0, name: Tesla T4, pci bus id: 0000:00:1e.0, compute capability: 7.5\n"
     ]
    }
   ],
   "source": [
    "# Create the model\n",
    "model = create_cnn_model()"
   ]
  },
  {
   "cell_type": "code",
   "execution_count": 7,
   "id": "abcf12e3-7727-4c2b-a64f-35acbcbd1b0e",
   "metadata": {
    "execution": {
     "iopub.execute_input": "2024-12-05T20:45:04.937225Z",
     "iopub.status.busy": "2024-12-05T20:45:04.936942Z",
     "iopub.status.idle": "2024-12-05T20:45:04.948623Z",
     "shell.execute_reply": "2024-12-05T20:45:04.948161Z",
     "shell.execute_reply.started": "2024-12-05T20:45:04.937207Z"
    }
   },
   "outputs": [],
   "source": [
    "# Compile the model\n",
    "\n",
    "optimizer = SGD(learning_rate=0.002, momentum=0.8)\n",
    "\n",
    "model.compile(optimizer=optimizer,\n",
    "              loss='binary_crossentropy',  # Binary classification loss\n",
    "              metrics=['accuracy'])"
   ]
  },
  {
   "cell_type": "markdown",
   "id": "9df3e0d5-305a-4c90-a701-d1417c610d49",
   "metadata": {},
   "source": [
    "### Question 1\n",
    "\n",
    "Since we have a binary classification problem, what is the best loss function for us?\n",
    "\n",
    "* `mean squared error`\n",
    "* `binary crossentropy`\n",
    "* `categorical crossentropy`\n",
    "* `cosine similarity`\n",
    "\n",
    "**Answer: `binary crossentropy`**"
   ]
  },
  {
   "cell_type": "markdown",
   "id": "4688caef-bd04-40b4-a487-ff32730fccee",
   "metadata": {},
   "source": [
    "> **Note:** since we specify an activation for the output layer, we don't need to set `from_logits=True`\n",
    "\n",
    "\n",
    "### Question 2\n",
    "\n",
    "What's the total number of parameters of the model? You can use the `summary` method for that. \n",
    "\n",
    "* 896 \n",
    "* 11214912\n",
    "* 15896912\n",
    "* 20072512\n",
    "\n",
    "**Answer: `20072512`**"
   ]
  },
  {
   "cell_type": "code",
   "execution_count": 8,
   "id": "be43623c-e702-424d-86a1-d2de4c3d7fb9",
   "metadata": {
    "execution": {
     "iopub.execute_input": "2024-12-05T20:45:04.949495Z",
     "iopub.status.busy": "2024-12-05T20:45:04.949229Z",
     "iopub.status.idle": "2024-12-05T20:45:04.962225Z",
     "shell.execute_reply": "2024-12-05T20:45:04.961681Z",
     "shell.execute_reply.started": "2024-12-05T20:45:04.949475Z"
    }
   },
   "outputs": [
    {
     "data": {
      "text/html": [
       "<pre style=\"white-space:pre;overflow-x:auto;line-height:normal;font-family:Menlo,'DejaVu Sans Mono',consolas,'Courier New',monospace\"><span style=\"font-weight: bold\">Model: \"sequential\"</span>\n",
       "</pre>\n"
      ],
      "text/plain": [
       "\u001b[1mModel: \"sequential\"\u001b[0m\n"
      ]
     },
     "metadata": {},
     "output_type": "display_data"
    },
    {
     "data": {
      "text/html": [
       "<pre style=\"white-space:pre;overflow-x:auto;line-height:normal;font-family:Menlo,'DejaVu Sans Mono',consolas,'Courier New',monospace\">┏━━━━━━━━━━━━━━━━━━━━━━━━━━━━━━━━━┳━━━━━━━━━━━━━━━━━━━━━━━━┳━━━━━━━━━━━━━━━┓\n",
       "┃<span style=\"font-weight: bold\"> Layer (type)                    </span>┃<span style=\"font-weight: bold\"> Output Shape           </span>┃<span style=\"font-weight: bold\">       Param # </span>┃\n",
       "┡━━━━━━━━━━━━━━━━━━━━━━━━━━━━━━━━━╇━━━━━━━━━━━━━━━━━━━━━━━━╇━━━━━━━━━━━━━━━┩\n",
       "│ conv2d (<span style=\"color: #0087ff; text-decoration-color: #0087ff\">Conv2D</span>)                 │ (<span style=\"color: #00d7ff; text-decoration-color: #00d7ff\">None</span>, <span style=\"color: #00af00; text-decoration-color: #00af00\">198</span>, <span style=\"color: #00af00; text-decoration-color: #00af00\">198</span>, <span style=\"color: #00af00; text-decoration-color: #00af00\">32</span>)   │           <span style=\"color: #00af00; text-decoration-color: #00af00\">896</span> │\n",
       "├─────────────────────────────────┼────────────────────────┼───────────────┤\n",
       "│ max_pooling2d (<span style=\"color: #0087ff; text-decoration-color: #0087ff\">MaxPooling2D</span>)    │ (<span style=\"color: #00d7ff; text-decoration-color: #00d7ff\">None</span>, <span style=\"color: #00af00; text-decoration-color: #00af00\">99</span>, <span style=\"color: #00af00; text-decoration-color: #00af00\">99</span>, <span style=\"color: #00af00; text-decoration-color: #00af00\">32</span>)     │             <span style=\"color: #00af00; text-decoration-color: #00af00\">0</span> │\n",
       "├─────────────────────────────────┼────────────────────────┼───────────────┤\n",
       "│ flatten (<span style=\"color: #0087ff; text-decoration-color: #0087ff\">Flatten</span>)               │ (<span style=\"color: #00d7ff; text-decoration-color: #00d7ff\">None</span>, <span style=\"color: #00af00; text-decoration-color: #00af00\">313632</span>)         │             <span style=\"color: #00af00; text-decoration-color: #00af00\">0</span> │\n",
       "├─────────────────────────────────┼────────────────────────┼───────────────┤\n",
       "│ dense (<span style=\"color: #0087ff; text-decoration-color: #0087ff\">Dense</span>)                   │ (<span style=\"color: #00d7ff; text-decoration-color: #00d7ff\">None</span>, <span style=\"color: #00af00; text-decoration-color: #00af00\">64</span>)             │    <span style=\"color: #00af00; text-decoration-color: #00af00\">20,072,512</span> │\n",
       "├─────────────────────────────────┼────────────────────────┼───────────────┤\n",
       "│ dense_1 (<span style=\"color: #0087ff; text-decoration-color: #0087ff\">Dense</span>)                 │ (<span style=\"color: #00d7ff; text-decoration-color: #00d7ff\">None</span>, <span style=\"color: #00af00; text-decoration-color: #00af00\">1</span>)              │            <span style=\"color: #00af00; text-decoration-color: #00af00\">65</span> │\n",
       "└─────────────────────────────────┴────────────────────────┴───────────────┘\n",
       "</pre>\n"
      ],
      "text/plain": [
       "┏━━━━━━━━━━━━━━━━━━━━━━━━━━━━━━━━━┳━━━━━━━━━━━━━━━━━━━━━━━━┳━━━━━━━━━━━━━━━┓\n",
       "┃\u001b[1m \u001b[0m\u001b[1mLayer (type)                   \u001b[0m\u001b[1m \u001b[0m┃\u001b[1m \u001b[0m\u001b[1mOutput Shape          \u001b[0m\u001b[1m \u001b[0m┃\u001b[1m \u001b[0m\u001b[1m      Param #\u001b[0m\u001b[1m \u001b[0m┃\n",
       "┡━━━━━━━━━━━━━━━━━━━━━━━━━━━━━━━━━╇━━━━━━━━━━━━━━━━━━━━━━━━╇━━━━━━━━━━━━━━━┩\n",
       "│ conv2d (\u001b[38;5;33mConv2D\u001b[0m)                 │ (\u001b[38;5;45mNone\u001b[0m, \u001b[38;5;34m198\u001b[0m, \u001b[38;5;34m198\u001b[0m, \u001b[38;5;34m32\u001b[0m)   │           \u001b[38;5;34m896\u001b[0m │\n",
       "├─────────────────────────────────┼────────────────────────┼───────────────┤\n",
       "│ max_pooling2d (\u001b[38;5;33mMaxPooling2D\u001b[0m)    │ (\u001b[38;5;45mNone\u001b[0m, \u001b[38;5;34m99\u001b[0m, \u001b[38;5;34m99\u001b[0m, \u001b[38;5;34m32\u001b[0m)     │             \u001b[38;5;34m0\u001b[0m │\n",
       "├─────────────────────────────────┼────────────────────────┼───────────────┤\n",
       "│ flatten (\u001b[38;5;33mFlatten\u001b[0m)               │ (\u001b[38;5;45mNone\u001b[0m, \u001b[38;5;34m313632\u001b[0m)         │             \u001b[38;5;34m0\u001b[0m │\n",
       "├─────────────────────────────────┼────────────────────────┼───────────────┤\n",
       "│ dense (\u001b[38;5;33mDense\u001b[0m)                   │ (\u001b[38;5;45mNone\u001b[0m, \u001b[38;5;34m64\u001b[0m)             │    \u001b[38;5;34m20,072,512\u001b[0m │\n",
       "├─────────────────────────────────┼────────────────────────┼───────────────┤\n",
       "│ dense_1 (\u001b[38;5;33mDense\u001b[0m)                 │ (\u001b[38;5;45mNone\u001b[0m, \u001b[38;5;34m1\u001b[0m)              │            \u001b[38;5;34m65\u001b[0m │\n",
       "└─────────────────────────────────┴────────────────────────┴───────────────┘\n"
      ]
     },
     "metadata": {},
     "output_type": "display_data"
    },
    {
     "data": {
      "text/html": [
       "<pre style=\"white-space:pre;overflow-x:auto;line-height:normal;font-family:Menlo,'DejaVu Sans Mono',consolas,'Courier New',monospace\"><span style=\"font-weight: bold\"> Total params: </span><span style=\"color: #00af00; text-decoration-color: #00af00\">20,073,473</span> (76.57 MB)\n",
       "</pre>\n"
      ],
      "text/plain": [
       "\u001b[1m Total params: \u001b[0m\u001b[38;5;34m20,073,473\u001b[0m (76.57 MB)\n"
      ]
     },
     "metadata": {},
     "output_type": "display_data"
    },
    {
     "data": {
      "text/html": [
       "<pre style=\"white-space:pre;overflow-x:auto;line-height:normal;font-family:Menlo,'DejaVu Sans Mono',consolas,'Courier New',monospace\"><span style=\"font-weight: bold\"> Trainable params: </span><span style=\"color: #00af00; text-decoration-color: #00af00\">20,073,473</span> (76.57 MB)\n",
       "</pre>\n"
      ],
      "text/plain": [
       "\u001b[1m Trainable params: \u001b[0m\u001b[38;5;34m20,073,473\u001b[0m (76.57 MB)\n"
      ]
     },
     "metadata": {},
     "output_type": "display_data"
    },
    {
     "data": {
      "text/html": [
       "<pre style=\"white-space:pre;overflow-x:auto;line-height:normal;font-family:Menlo,'DejaVu Sans Mono',consolas,'Courier New',monospace\"><span style=\"font-weight: bold\"> Non-trainable params: </span><span style=\"color: #00af00; text-decoration-color: #00af00\">0</span> (0.00 B)\n",
       "</pre>\n"
      ],
      "text/plain": [
       "\u001b[1m Non-trainable params: \u001b[0m\u001b[38;5;34m0\u001b[0m (0.00 B)\n"
      ]
     },
     "metadata": {},
     "output_type": "display_data"
    }
   ],
   "source": [
    "model.summary()"
   ]
  },
  {
   "cell_type": "markdown",
   "id": "90a31b6e-84d6-4a53-82f9-11a696d93b21",
   "metadata": {},
   "source": [
    "### Generators and Training\n",
    "\n",
    "For the next two questions, use the following data generator for both train and test sets:\n",
    "\n",
    "```python\n",
    "ImageDataGenerator(rescale=1./255)\n",
    "```\n",
    "\n",
    "* We don't need to do any additional pre-processing for the images.\n",
    "* When reading the data from train/test directories, check the `class_mode` parameter. Which value should it be for a binary classification problem?\n",
    "* Use `batch_size=20`\n",
    "* Use `shuffle=True` for both training and test sets. \n",
    "\n",
    "For training use `.fit()` with the following params:\n",
    "\n",
    "```python\n",
    "model.fit(\n",
    "    train_generator,\n",
    "    epochs=10,\n",
    "    validation_data=test_generator\n",
    ")\n",
    "```"
   ]
  },
  {
   "cell_type": "code",
   "execution_count": 9,
   "id": "50601cfb-cb1b-410c-800f-b924081a29b7",
   "metadata": {
    "execution": {
     "iopub.execute_input": "2024-12-05T20:45:04.963140Z",
     "iopub.status.busy": "2024-12-05T20:45:04.962873Z",
     "iopub.status.idle": "2024-12-05T20:45:04.996265Z",
     "shell.execute_reply": "2024-12-05T20:45:04.995759Z",
     "shell.execute_reply.started": "2024-12-05T20:45:04.963119Z"
    }
   },
   "outputs": [
    {
     "name": "stdout",
     "output_type": "stream",
     "text": [
      "Found 800 images belonging to 2 classes.\n",
      "Found 204 images belonging to 2 classes.\n"
     ]
    }
   ],
   "source": [
    "input_size = 200\n",
    "\n",
    "train_gen = ImageDataGenerator(\n",
    "    rescale=1./255,\n",
    "    # preprocessing_function=preprocess_input,\n",
    "    # shear_range=10,\n",
    "    # zoom_range=0.1,\n",
    "    # horizontal_flip=True\n",
    ")\n",
    "\n",
    "train_ds = train_gen.flow_from_directory(\n",
    "    './data/train',\n",
    "    target_size=(input_size, input_size),\n",
    "    class_mode='binary',\n",
    "    batch_size=20,\n",
    "    shuffle=True\n",
    ")\n",
    "\n",
    "\n",
    "test_gen = ImageDataGenerator(\n",
    "    rescale=1./255,    \n",
    "    # preprocessing_function=preprocess_input\n",
    ")\n",
    "\n",
    "test_ds = test_gen.flow_from_directory(\n",
    "    './data/test',\n",
    "    target_size=(input_size, input_size),\n",
    "    class_mode='binary',\n",
    "    batch_size=20,\n",
    "    shuffle=True\n",
    ")"
   ]
  },
  {
   "cell_type": "code",
   "execution_count": 10,
   "id": "712943a3-2557-4444-9598-50e0820a591e",
   "metadata": {
    "execution": {
     "iopub.execute_input": "2024-12-05T20:45:04.997580Z",
     "iopub.status.busy": "2024-12-05T20:45:04.996879Z",
     "iopub.status.idle": "2024-12-05T20:45:59.263239Z",
     "shell.execute_reply": "2024-12-05T20:45:59.262749Z",
     "shell.execute_reply.started": "2024-12-05T20:45:04.997558Z"
    }
   },
   "outputs": [
    {
     "name": "stderr",
     "output_type": "stream",
     "text": [
      "/opt/saturncloud/envs/saturn/lib/python3.12/site-packages/keras/src/trainers/data_adapters/py_dataset_adapter.py:121: UserWarning: Your `PyDataset` class should call `super().__init__(**kwargs)` in its constructor. `**kwargs` can include `workers`, `use_multiprocessing`, `max_queue_size`. Do not pass these arguments to `fit()`, as they will be ignored.\n",
      "  self._warn_if_super_not_called()\n"
     ]
    },
    {
     "name": "stdout",
     "output_type": "stream",
     "text": [
      "Epoch 1/10\n"
     ]
    },
    {
     "name": "stderr",
     "output_type": "stream",
     "text": [
      "WARNING: All log messages before absl::InitializeLog() is called are written to STDERR\n",
      "I0000 00:00:1733431505.918096   14721 service.cc:146] XLA service 0x7efdd4008560 initialized for platform CUDA (this does not guarantee that XLA will be used). Devices:\n",
      "I0000 00:00:1733431505.918132   14721 service.cc:154]   StreamExecutor device (0): Tesla T4, Compute Capability 7.5\n",
      "2024-12-05 20:45:05.937614: I tensorflow/compiler/mlir/tensorflow/utils/dump_mlir_util.cc:268] disabling MLIR crash reproducer, set env var `MLIR_CRASH_REPRODUCER_DIRECTORY` to enable.\n",
      "2024-12-05 20:45:06.054320: I external/local_xla/xla/stream_executor/cuda/cuda_dnn.cc:531] Loaded cuDNN version 8900\n",
      "2024-12-05 20:45:07.254792: W external/local_xla/xla/service/gpu/nvptx_compiler.cc:762] The NVIDIA driver's CUDA version is 12.4 which is older than the ptxas CUDA version (12.5.82). Because the driver is older than the ptxas version, XLA is disabling parallel compilation, which may slow down compilation. You should update your NVIDIA driver or use the NVIDIA-provided CUDA forward compatibility packages.\n"
     ]
    },
    {
     "name": "stdout",
     "output_type": "stream",
     "text": [
      "\u001b[1m 3/40\u001b[0m \u001b[32m━\u001b[0m\u001b[37m━━━━━━━━━━━━━━━━━━━\u001b[0m \u001b[1m1s\u001b[0m 51ms/step - accuracy: 0.4667 - loss: 0.9041"
     ]
    },
    {
     "name": "stderr",
     "output_type": "stream",
     "text": [
      "I0000 00:00:1733431507.456415   14721 device_compiler.h:188] Compiled cluster using XLA!  This line is logged at most once for the lifetime of the process.\n"
     ]
    },
    {
     "name": "stdout",
     "output_type": "stream",
     "text": [
      "\u001b[1m40/40\u001b[0m \u001b[32m━━━━━━━━━━━━━━━━━━━━\u001b[0m\u001b[37m\u001b[0m \u001b[1m9s\u001b[0m 164ms/step - accuracy: 0.5153 - loss: 0.8151 - val_accuracy: 0.5147 - val_loss: 0.6923\n",
      "Epoch 2/10\n",
      "\u001b[1m40/40\u001b[0m \u001b[32m━━━━━━━━━━━━━━━━━━━━\u001b[0m\u001b[37m\u001b[0m \u001b[1m5s\u001b[0m 124ms/step - accuracy: 0.5251 - loss: 0.6900 - val_accuracy: 0.5392 - val_loss: 0.6867\n",
      "Epoch 3/10\n",
      "\u001b[1m40/40\u001b[0m \u001b[32m━━━━━━━━━━━━━━━━━━━━\u001b[0m\u001b[37m\u001b[0m \u001b[1m5s\u001b[0m 127ms/step - accuracy: 0.5407 - loss: 0.6801 - val_accuracy: 0.5735 - val_loss: 0.6734\n",
      "Epoch 4/10\n",
      "\u001b[1m40/40\u001b[0m \u001b[32m━━━━━━━━━━━━━━━━━━━━\u001b[0m\u001b[37m\u001b[0m \u001b[1m5s\u001b[0m 125ms/step - accuracy: 0.6290 - loss: 0.6560 - val_accuracy: 0.5637 - val_loss: 0.6634\n",
      "Epoch 5/10\n",
      "\u001b[1m40/40\u001b[0m \u001b[32m━━━━━━━━━━━━━━━━━━━━\u001b[0m\u001b[37m\u001b[0m \u001b[1m5s\u001b[0m 126ms/step - accuracy: 0.6628 - loss: 0.6276 - val_accuracy: 0.6176 - val_loss: 0.6571\n",
      "Epoch 6/10\n",
      "\u001b[1m40/40\u001b[0m \u001b[32m━━━━━━━━━━━━━━━━━━━━\u001b[0m\u001b[37m\u001b[0m \u001b[1m5s\u001b[0m 126ms/step - accuracy: 0.6797 - loss: 0.6277 - val_accuracy: 0.6225 - val_loss: 0.6410\n",
      "Epoch 7/10\n",
      "\u001b[1m40/40\u001b[0m \u001b[32m━━━━━━━━━━━━━━━━━━━━\u001b[0m\u001b[37m\u001b[0m \u001b[1m5s\u001b[0m 127ms/step - accuracy: 0.6638 - loss: 0.6156 - val_accuracy: 0.6373 - val_loss: 0.6423\n",
      "Epoch 8/10\n",
      "\u001b[1m40/40\u001b[0m \u001b[32m━━━━━━━━━━━━━━━━━━━━\u001b[0m\u001b[37m\u001b[0m \u001b[1m5s\u001b[0m 128ms/step - accuracy: 0.6947 - loss: 0.6013 - val_accuracy: 0.6275 - val_loss: 0.6327\n",
      "Epoch 9/10\n",
      "\u001b[1m40/40\u001b[0m \u001b[32m━━━━━━━━━━━━━━━━━━━━\u001b[0m\u001b[37m\u001b[0m \u001b[1m5s\u001b[0m 124ms/step - accuracy: 0.6946 - loss: 0.5842 - val_accuracy: 0.5980 - val_loss: 0.6853\n",
      "Epoch 10/10\n",
      "\u001b[1m40/40\u001b[0m \u001b[32m━━━━━━━━━━━━━━━━━━━━\u001b[0m\u001b[37m\u001b[0m \u001b[1m5s\u001b[0m 126ms/step - accuracy: 0.6849 - loss: 0.6057 - val_accuracy: 0.6422 - val_loss: 0.6194\n"
     ]
    }
   ],
   "source": [
    "history = model.fit(train_ds,\n",
    "                    epochs=10,\n",
    "                    validation_data=test_ds\n",
    "                   )"
   ]
  },
  {
   "cell_type": "code",
   "execution_count": 11,
   "id": "625b69a5-4dfe-4431-aae1-9dccc4002813",
   "metadata": {
    "execution": {
     "iopub.execute_input": "2024-12-05T20:45:59.264306Z",
     "iopub.status.busy": "2024-12-05T20:45:59.264049Z",
     "iopub.status.idle": "2024-12-05T20:45:59.267672Z",
     "shell.execute_reply": "2024-12-05T20:45:59.267157Z",
     "shell.execute_reply.started": "2024-12-05T20:45:59.264287Z"
    }
   },
   "outputs": [
    {
     "name": "stdout",
     "output_type": "stream",
     "text": [
      "dict_keys(['accuracy', 'loss', 'val_accuracy', 'val_loss'])\n"
     ]
    }
   ],
   "source": [
    "# Print all available keys in the history dictionary\n",
    "print(history.history.keys())"
   ]
  },
  {
   "cell_type": "code",
   "execution_count": 12,
   "id": "0815db9c-301e-4de6-b0df-d7c51157c689",
   "metadata": {
    "execution": {
     "iopub.execute_input": "2024-12-05T20:45:59.268921Z",
     "iopub.status.busy": "2024-12-05T20:45:59.268294Z",
     "iopub.status.idle": "2024-12-05T20:45:59.273288Z",
     "shell.execute_reply": "2024-12-05T20:45:59.272740Z",
     "shell.execute_reply.started": "2024-12-05T20:45:59.268894Z"
    }
   },
   "outputs": [
    {
     "name": "stdout",
     "output_type": "stream",
     "text": [
      "[0.5350000262260437, 0.5287500023841858, 0.5625, 0.6312500238418579, 0.6737499833106995, 0.6762499809265137, 0.6825000047683716, 0.7049999833106995, 0.699999988079071, 0.6875]\n",
      "--------------------------------------------------\n",
      "[0.7380661964416504, 0.688362181186676, 0.675106942653656, 0.6527014374732971, 0.6317003965377808, 0.623220682144165, 0.6142894625663757, 0.5991724133491516, 0.6005693078041077, 0.5949133038520813]\n",
      "==================================================\n",
      "[0.5147058963775635, 0.5392156839370728, 0.5735294222831726, 0.563725471496582, 0.6176470518112183, 0.6225489974021912, 0.6372548937797546, 0.6274510025978088, 0.5980392098426819, 0.6421568393707275]\n",
      "--------------------------------------------------\n",
      "[0.6923468112945557, 0.6866991519927979, 0.6733673214912415, 0.6633828282356262, 0.6570571660995483, 0.6409817337989807, 0.6423211693763733, 0.6327053308486938, 0.6853362917900085, 0.6194398403167725]\n",
      "==================================================\n"
     ]
    }
   ],
   "source": [
    "# Access specific metrics\n",
    "print(history.history['accuracy'])  # Training accuracy\n",
    "print('-' * 50)\n",
    "print(history.history['loss'])  # Training loss\n",
    "print('=' * 50)\n",
    "\n",
    "print(history.history['val_accuracy'])  # Validation accuracy\n",
    "print('-' * 50)\n",
    "print(history.history['val_loss'])  # Validation loss\n",
    "print('=' * 50)"
   ]
  },
  {
   "cell_type": "markdown",
   "id": "5b18c789-1906-4b16-9f39-0e5fc64e2b43",
   "metadata": {},
   "source": [
    "### Question 3\n",
    "\n",
    "What is the median of training accuracy for all the epochs for this model?\n",
    "\n",
    "* 0.10\n",
    "* 0.32\n",
    "* 0.50\n",
    "* 0.72\n",
    "\n",
    "**Answer: `0.72`**"
   ]
  },
  {
   "cell_type": "code",
   "execution_count": 13,
   "id": "c569afb3-637a-4e25-a8dc-92d2d35b719c",
   "metadata": {
    "execution": {
     "iopub.execute_input": "2024-12-05T20:45:59.274299Z",
     "iopub.status.busy": "2024-12-05T20:45:59.273945Z",
     "iopub.status.idle": "2024-12-05T20:45:59.279654Z",
     "shell.execute_reply": "2024-12-05T20:45:59.279209Z",
     "shell.execute_reply.started": "2024-12-05T20:45:59.274273Z"
    }
   },
   "outputs": [
    {
     "data": {
      "text/plain": [
       "[0.5350000262260437,\n",
       " 0.5287500023841858,\n",
       " 0.5625,\n",
       " 0.6312500238418579,\n",
       " 0.6737499833106995,\n",
       " 0.6762499809265137,\n",
       " 0.6825000047683716,\n",
       " 0.7049999833106995,\n",
       " 0.699999988079071,\n",
       " 0.6875]"
      ]
     },
     "execution_count": 13,
     "metadata": {},
     "output_type": "execute_result"
    }
   ],
   "source": [
    "train_acc = history.history['accuracy']\n",
    "train_acc"
   ]
  },
  {
   "cell_type": "code",
   "execution_count": 14,
   "id": "9e8f4e19-ac6a-4aae-8e39-6fd703486426",
   "metadata": {
    "execution": {
     "iopub.execute_input": "2024-12-05T20:45:59.280713Z",
     "iopub.status.busy": "2024-12-05T20:45:59.280172Z",
     "iopub.status.idle": "2024-12-05T20:45:59.284740Z",
     "shell.execute_reply": "2024-12-05T20:45:59.284276Z",
     "shell.execute_reply.started": "2024-12-05T20:45:59.280696Z"
    }
   },
   "outputs": [
    {
     "name": "stdout",
     "output_type": "stream",
     "text": [
      "Median: 0.6749999821186066\n"
     ]
    }
   ],
   "source": [
    "# Calculate median\n",
    "median = statistics.median(train_acc)\n",
    "print(\"Median:\", median) "
   ]
  },
  {
   "cell_type": "markdown",
   "id": "db078e2d-8722-4510-bb77-7f670813731b",
   "metadata": {},
   "source": [
    "### Question 4\n",
    "\n",
    "What is the standard deviation of training loss for all the epochs for this model?\n",
    "\n",
    "* 0.028\n",
    "* 0.068\n",
    "* 0.128\n",
    "* 0.168\n",
    "\n",
    "**Answer: `0.068`**"
   ]
  },
  {
   "cell_type": "code",
   "execution_count": 15,
   "id": "ed34b7ad-0f18-4e9d-864c-69fc0418c677",
   "metadata": {
    "execution": {
     "iopub.execute_input": "2024-12-05T20:45:59.286040Z",
     "iopub.status.busy": "2024-12-05T20:45:59.285383Z",
     "iopub.status.idle": "2024-12-05T20:45:59.291013Z",
     "shell.execute_reply": "2024-12-05T20:45:59.290535Z",
     "shell.execute_reply.started": "2024-12-05T20:45:59.286010Z"
    }
   },
   "outputs": [
    {
     "data": {
      "text/plain": [
       "[0.7380661964416504,\n",
       " 0.688362181186676,\n",
       " 0.675106942653656,\n",
       " 0.6527014374732971,\n",
       " 0.6317003965377808,\n",
       " 0.623220682144165,\n",
       " 0.6142894625663757,\n",
       " 0.5991724133491516,\n",
       " 0.6005693078041077,\n",
       " 0.5949133038520813]"
      ]
     },
     "execution_count": 15,
     "metadata": {},
     "output_type": "execute_result"
    }
   ],
   "source": [
    "train_loss = history.history['loss']\n",
    "train_loss"
   ]
  },
  {
   "cell_type": "code",
   "execution_count": 16,
   "id": "6a88714d-9d29-4ab0-8f6f-a53edef0e4e5",
   "metadata": {
    "execution": {
     "iopub.execute_input": "2024-12-05T20:45:59.291767Z",
     "iopub.status.busy": "2024-12-05T20:45:59.291551Z",
     "iopub.status.idle": "2024-12-05T20:45:59.296717Z",
     "shell.execute_reply": "2024-12-05T20:45:59.296158Z",
     "shell.execute_reply.started": "2024-12-05T20:45:59.291751Z"
    }
   },
   "outputs": [
    {
     "name": "stdout",
     "output_type": "stream",
     "text": [
      "Standard Deviation: 0.04664627664713021\n"
     ]
    }
   ],
   "source": [
    "# Calculate standard deviation\n",
    "std_dev = statistics.stdev(train_loss)\n",
    "print(\"Standard Deviation:\", std_dev)"
   ]
  },
  {
   "cell_type": "markdown",
   "id": "ccc9cc9e-97c9-4c33-bb9b-2a05a916d5cf",
   "metadata": {},
   "source": [
    "### Data Augmentation\n",
    "\n",
    "For the next two questions, we'll generate more data using data augmentations. \n",
    "\n",
    "Add the following augmentations to your training data generator:\n",
    "\n",
    "* `rotation_range=50,`\n",
    "* `width_shift_range=0.1,`\n",
    "* `height_shift_range=0.1,`\n",
    "* `zoom_range=0.1,`\n",
    "* `horizontal_flip=True,`\n",
    "* `fill_mode='nearest'`"
   ]
  },
  {
   "cell_type": "code",
   "execution_count": 17,
   "id": "320c61b9-b7a9-45e2-b51a-736997b5ee91",
   "metadata": {
    "execution": {
     "iopub.execute_input": "2024-12-05T20:45:59.297585Z",
     "iopub.status.busy": "2024-12-05T20:45:59.297307Z",
     "iopub.status.idle": "2024-12-05T20:45:59.330262Z",
     "shell.execute_reply": "2024-12-05T20:45:59.329775Z",
     "shell.execute_reply.started": "2024-12-05T20:45:59.297569Z"
    }
   },
   "outputs": [
    {
     "name": "stdout",
     "output_type": "stream",
     "text": [
      "Found 800 images belonging to 2 classes.\n",
      "Found 204 images belonging to 2 classes.\n"
     ]
    }
   ],
   "source": [
    "train_gen = ImageDataGenerator(\n",
    "    rescale=1./255,\n",
    "    # preprocessing_function=preprocess_input,\n",
    "    rotation_range=50,\n",
    "    width_shift_range=0.1,\n",
    "    height_shift_range=0.1,\n",
    "    zoom_range=0.1,\n",
    "    horizontal_flip=True,\n",
    "    fill_mode='nearest'\n",
    ")\n",
    "\n",
    "train_ds = train_gen.flow_from_directory(\n",
    "    './data/train',\n",
    "    target_size=(input_size, input_size),\n",
    "    class_mode='binary',\n",
    "    batch_size=20,\n",
    "    shuffle=True\n",
    ")\n",
    "\n",
    "\n",
    "test_gen = ImageDataGenerator(\n",
    "    rescale=1./255,    \n",
    "    # preprocessing_function=preprocess_input\n",
    ")\n",
    "\n",
    "test_ds = test_gen.flow_from_directory(\n",
    "    './data/test',\n",
    "    target_size=(input_size, input_size),\n",
    "    class_mode='binary',\n",
    "    batch_size=20,\n",
    "    shuffle=True\n",
    ")"
   ]
  },
  {
   "cell_type": "markdown",
   "id": "b094d1cc-054a-482c-b038-4b5665ac6487",
   "metadata": {},
   "source": [
    "### Question 5 \n",
    "\n",
    "Let's train our model for 10 more epochs using the same code as previously.\n",
    "> **Note:** make sure you don't re-create the model - we want to continue training the model\n",
    "we already started training.\n",
    "\n",
    "What is the mean of test loss for all the epochs for the model trained with augmentations?\n",
    "\n",
    "* 0.26\n",
    "* 0.56\n",
    "* 0.86\n",
    "* 1.16\n",
    "\n",
    "**Answer: `0.56`**"
   ]
  },
  {
   "cell_type": "code",
   "execution_count": 20,
   "id": "bb212c63-78b4-4da3-a906-825d30c2d6c4",
   "metadata": {
    "execution": {
     "iopub.execute_input": "2024-12-05T20:49:57.022354Z",
     "iopub.status.busy": "2024-12-05T20:49:57.022009Z",
     "iopub.status.idle": "2024-12-05T20:51:43.125194Z",
     "shell.execute_reply": "2024-12-05T20:51:43.124708Z",
     "shell.execute_reply.started": "2024-12-05T20:49:57.022333Z"
    }
   },
   "outputs": [
    {
     "name": "stdout",
     "output_type": "stream",
     "text": [
      "Epoch 11/20\n",
      "\u001b[1m40/40\u001b[0m \u001b[32m━━━━━━━━━━━━━━━━━━━━\u001b[0m\u001b[37m\u001b[0m \u001b[1m0s\u001b[0m 238ms/step - accuracy: 0.6393 - loss: 0.6388"
     ]
    },
    {
     "name": "stderr",
     "output_type": "stream",
     "text": [
      "/opt/saturncloud/envs/saturn/lib/python3.12/site-packages/keras/src/trainers/data_adapters/py_dataset_adapter.py:121: UserWarning: Your `PyDataset` class should call `super().__init__(**kwargs)` in its constructor. `**kwargs` can include `workers`, `use_multiprocessing`, `max_queue_size`. Do not pass these arguments to `fit()`, as they will be ignored.\n",
      "  self._warn_if_super_not_called()\n"
     ]
    },
    {
     "name": "stdout",
     "output_type": "stream",
     "text": [
      "\u001b[1m40/40\u001b[0m \u001b[32m━━━━━━━━━━━━━━━━━━━━\u001b[0m\u001b[37m\u001b[0m \u001b[1m11s\u001b[0m 266ms/step - accuracy: 0.6387 - loss: 0.6391 - val_accuracy: 0.6029 - val_loss: 0.6585\n",
      "Epoch 12/20\n",
      "\u001b[1m40/40\u001b[0m \u001b[32m━━━━━━━━━━━━━━━━━━━━\u001b[0m\u001b[37m\u001b[0m \u001b[1m11s\u001b[0m 264ms/step - accuracy: 0.6001 - loss: 0.6615 - val_accuracy: 0.6471 - val_loss: 0.6481\n",
      "Epoch 13/20\n",
      "\u001b[1m40/40\u001b[0m \u001b[32m━━━━━━━━━━━━━━━━━━━━\u001b[0m\u001b[37m\u001b[0m \u001b[1m11s\u001b[0m 262ms/step - accuracy: 0.5739 - loss: 0.6544 - val_accuracy: 0.6324 - val_loss: 0.6410\n",
      "Epoch 14/20\n",
      "\u001b[1m40/40\u001b[0m \u001b[32m━━━━━━━━━━━━━━━━━━━━\u001b[0m\u001b[37m\u001b[0m \u001b[1m11s\u001b[0m 264ms/step - accuracy: 0.6030 - loss: 0.6484 - val_accuracy: 0.6471 - val_loss: 0.6199\n",
      "Epoch 15/20\n",
      "\u001b[1m40/40\u001b[0m \u001b[32m━━━━━━━━━━━━━━━━━━━━\u001b[0m\u001b[37m\u001b[0m \u001b[1m11s\u001b[0m 265ms/step - accuracy: 0.6177 - loss: 0.6475 - val_accuracy: 0.6471 - val_loss: 0.6357\n",
      "Epoch 16/20\n",
      "\u001b[1m40/40\u001b[0m \u001b[32m━━━━━━━━━━━━━━━━━━━━\u001b[0m\u001b[37m\u001b[0m \u001b[1m11s\u001b[0m 264ms/step - accuracy: 0.5961 - loss: 0.6610 - val_accuracy: 0.6422 - val_loss: 0.6208\n",
      "Epoch 17/20\n",
      "\u001b[1m40/40\u001b[0m \u001b[32m━━━━━━━━━━━━━━━━━━━━\u001b[0m\u001b[37m\u001b[0m \u001b[1m11s\u001b[0m 264ms/step - accuracy: 0.6597 - loss: 0.6307 - val_accuracy: 0.6520 - val_loss: 0.6196\n",
      "Epoch 18/20\n",
      "\u001b[1m40/40\u001b[0m \u001b[32m━━━━━━━━━━━━━━━━━━━━\u001b[0m\u001b[37m\u001b[0m \u001b[1m11s\u001b[0m 264ms/step - accuracy: 0.6525 - loss: 0.6217 - val_accuracy: 0.6373 - val_loss: 0.6246\n",
      "Epoch 19/20\n",
      "\u001b[1m40/40\u001b[0m \u001b[32m━━━━━━━━━━━━━━━━━━━━\u001b[0m\u001b[37m\u001b[0m \u001b[1m10s\u001b[0m 260ms/step - accuracy: 0.6366 - loss: 0.6292 - val_accuracy: 0.6422 - val_loss: 0.6334\n",
      "Epoch 20/20\n",
      "\u001b[1m40/40\u001b[0m \u001b[32m━━━━━━━━━━━━━━━━━━━━\u001b[0m\u001b[37m\u001b[0m \u001b[1m11s\u001b[0m 263ms/step - accuracy: 0.6242 - loss: 0.6238 - val_accuracy: 0.6716 - val_loss: 0.6176\n"
     ]
    }
   ],
   "source": [
    "# Continue training the model\n",
    "additional_history = model.fit(train_ds,\n",
    "                    epochs=history.epoch[-1] + 1 + 10,  # Last epoch + 1 (to start from the next epoch) + 10 additional epochs\n",
    "                    initial_epoch=history.epoch[-1] + 1, # Start from the next epoch\n",
    "                    validation_data=test_ds\n",
    "                   )\n",
    "\n",
    "# Combine the histories\n",
    "for key in history.history.keys():\n",
    "    history.history[key].extend(additional_history.history[key])\n",
    "\n",
    "# Update the epoch information\n",
    "history.epoch.extend(additional_history.epoch)"
   ]
  },
  {
   "cell_type": "code",
   "execution_count": 21,
   "id": "7e0d3868-063a-4e00-a81f-f7994176bc3f",
   "metadata": {
    "execution": {
     "iopub.execute_input": "2024-12-05T20:51:56.952553Z",
     "iopub.status.busy": "2024-12-05T20:51:56.952019Z",
     "iopub.status.idle": "2024-12-05T20:51:56.956928Z",
     "shell.execute_reply": "2024-12-05T20:51:56.956420Z",
     "shell.execute_reply.started": "2024-12-05T20:51:56.952528Z"
    }
   },
   "outputs": [
    {
     "name": "stdout",
     "output_type": "stream",
     "text": [
      "[0.5350000262260437, 0.5287500023841858, 0.5625, 0.6312500238418579, 0.6737499833106995, 0.6762499809265137, 0.6825000047683716, 0.7049999833106995, 0.699999988079071, 0.6875, 0.6162499785423279, 0.6137499809265137, 0.5899999737739563, 0.6187499761581421, 0.606249988079071, 0.6137499809265137, 0.6387500166893005, 0.6399999856948853, 0.6512500047683716, 0.6349999904632568]\n",
      "--------------------------------------------------\n",
      "[0.7380661964416504, 0.688362181186676, 0.675106942653656, 0.6527014374732971, 0.6317003965377808, 0.623220682144165, 0.6142894625663757, 0.5991724133491516, 0.6005693078041077, 0.5949133038520813, 0.6521779894828796, 0.6523903608322144, 0.6558489799499512, 0.6472030878067017, 0.646858811378479, 0.6523444652557373, 0.6349123120307922, 0.6341730356216431, 0.6251964569091797, 0.6322131156921387]\n",
      "==================================================\n",
      "[0.5147058963775635, 0.5392156839370728, 0.5735294222831726, 0.563725471496582, 0.6176470518112183, 0.6225489974021912, 0.6372548937797546, 0.6274510025978088, 0.5980392098426819, 0.6421568393707275, 0.6029411554336548, 0.6470588445663452, 0.6323529481887817, 0.6470588445663452, 0.6470588445663452, 0.6421568393707275, 0.6519607901573181, 0.6372548937797546, 0.6421568393707275, 0.6715686321258545]\n",
      "--------------------------------------------------\n",
      "[0.6923468112945557, 0.6866991519927979, 0.6733673214912415, 0.6633828282356262, 0.6570571660995483, 0.6409817337989807, 0.6423211693763733, 0.6327053308486938, 0.6853362917900085, 0.6194398403167725, 0.6585004329681396, 0.648069441318512, 0.6410242915153503, 0.6199275851249695, 0.6356923580169678, 0.6208052635192871, 0.6196398735046387, 0.6246304512023926, 0.6334254145622253, 0.6175970435142517]\n",
      "==================================================\n"
     ]
    }
   ],
   "source": [
    "# Access specific metrics\n",
    "print(history.history['accuracy'])  # Training accuracy\n",
    "print('-' * 50)\n",
    "print(history.history['loss'])  # Training loss\n",
    "print('=' * 50)\n",
    "\n",
    "print(history.history['val_accuracy'])  # Validation accuracy\n",
    "print('-' * 50)\n",
    "print(history.history['val_loss'])  # Validation loss\n",
    "print('=' * 50)"
   ]
  },
  {
   "cell_type": "code",
   "execution_count": 26,
   "id": "87ceffbd-417e-4cc8-8ebc-d9c65fdccc4a",
   "metadata": {
    "execution": {
     "iopub.execute_input": "2024-12-05T20:54:06.024171Z",
     "iopub.status.busy": "2024-12-05T20:54:06.023445Z",
     "iopub.status.idle": "2024-12-05T20:54:06.029054Z",
     "shell.execute_reply": "2024-12-05T20:54:06.028465Z",
     "shell.execute_reply.started": "2024-12-05T20:54:06.024139Z"
    }
   },
   "outputs": [
    {
     "data": {
      "text/plain": [
       "[0.6585004329681396,\n",
       " 0.648069441318512,\n",
       " 0.6410242915153503,\n",
       " 0.6199275851249695,\n",
       " 0.6356923580169678,\n",
       " 0.6208052635192871,\n",
       " 0.6196398735046387,\n",
       " 0.6246304512023926,\n",
       " 0.6334254145622253,\n",
       " 0.6175970435142517]"
      ]
     },
     "execution_count": 26,
     "metadata": {},
     "output_type": "execute_result"
    }
   ],
   "source": [
    "with_aug_test_loss = history.history['val_loss'][-10:]\n",
    "with_aug_test_loss"
   ]
  },
  {
   "cell_type": "code",
   "execution_count": 27,
   "id": "9ad8030d-03a8-42b2-bc26-e51216a1f57e",
   "metadata": {
    "execution": {
     "iopub.execute_input": "2024-12-05T20:54:13.889723Z",
     "iopub.status.busy": "2024-12-05T20:54:13.889385Z",
     "iopub.status.idle": "2024-12-05T20:54:13.893480Z",
     "shell.execute_reply": "2024-12-05T20:54:13.892763Z",
     "shell.execute_reply.started": "2024-12-05T20:54:13.889701Z"
    }
   },
   "outputs": [
    {
     "name": "stdout",
     "output_type": "stream",
     "text": [
      "Mean: 0.6319312155246735\n"
     ]
    }
   ],
   "source": [
    "# Calculate mean of test loss for all epochs\n",
    "mean = statistics.mean(with_aug_test_loss)\n",
    "print(\"Mean:\", mean) "
   ]
  },
  {
   "cell_type": "markdown",
   "id": "07f32dd6-183d-4313-a0af-3ad93d1df2e2",
   "metadata": {},
   "source": [
    "### Question 6\n",
    "\n",
    "What's the average of test accuracy for the last 5 epochs (from 6 to 10)\n",
    "for the model trained with augmentations?\n",
    "\n",
    "* 0.31\n",
    "* 0.51\n",
    "* 0.71\n",
    "* 0.91\n",
    "\n",
    "**Answer: `0.71`**"
   ]
  },
  {
   "cell_type": "code",
   "execution_count": 28,
   "id": "a6e18fc1-2656-4f2a-b175-2f012c4d3c51",
   "metadata": {
    "execution": {
     "iopub.execute_input": "2024-12-05T20:54:30.466349Z",
     "iopub.status.busy": "2024-12-05T20:54:30.466025Z",
     "iopub.status.idle": "2024-12-05T20:54:30.470616Z",
     "shell.execute_reply": "2024-12-05T20:54:30.470088Z",
     "shell.execute_reply.started": "2024-12-05T20:54:30.466327Z"
    }
   },
   "outputs": [
    {
     "data": {
      "text/plain": [
       "[0.6421568393707275,\n",
       " 0.6519607901573181,\n",
       " 0.6372548937797546,\n",
       " 0.6421568393707275,\n",
       " 0.6715686321258545]"
      ]
     },
     "execution_count": 28,
     "metadata": {},
     "output_type": "execute_result"
    }
   ],
   "source": [
    "last_5_epochs_accuracy = history.history['val_accuracy'][-5:]\n",
    "last_5_epochs_accuracy"
   ]
  },
  {
   "cell_type": "code",
   "execution_count": 29,
   "id": "05c97e37-74be-41ed-8421-cfb9d920a756",
   "metadata": {
    "execution": {
     "iopub.execute_input": "2024-12-05T20:54:32.202591Z",
     "iopub.status.busy": "2024-12-05T20:54:32.202257Z",
     "iopub.status.idle": "2024-12-05T20:54:32.206249Z",
     "shell.execute_reply": "2024-12-05T20:54:32.205586Z",
     "shell.execute_reply.started": "2024-12-05T20:54:32.202570Z"
    }
   },
   "outputs": [
    {
     "name": "stdout",
     "output_type": "stream",
     "text": [
      "Last 5 epochs accuracies: [0.6421568393707275, 0.6519607901573181, 0.6372548937797546, 0.6421568393707275, 0.6715686321258545]\n",
      "Average accuracy: 0.6490195989608765\n"
     ]
    }
   ],
   "source": [
    "average_accuracy = sum(last_5_epochs_accuracy) / len(last_5_epochs_accuracy)\n",
    "\n",
    "print(\"Last 5 epochs accuracies:\", last_5_epochs_accuracy)\n",
    "print(\"Average accuracy:\", average_accuracy)"
   ]
  },
  {
   "cell_type": "code",
   "execution_count": 30,
   "id": "3b7e428b-0e36-4fe8-a728-7ff4e02defa7",
   "metadata": {
    "execution": {
     "iopub.execute_input": "2024-12-05T20:55:30.434526Z",
     "iopub.status.busy": "2024-12-05T20:55:30.434206Z",
     "iopub.status.idle": "2024-12-05T20:55:30.438726Z",
     "shell.execute_reply": "2024-12-05T20:55:30.438119Z",
     "shell.execute_reply.started": "2024-12-05T20:55:30.434502Z"
    }
   },
   "outputs": [
    {
     "data": {
      "text/plain": [
       "0.6490195989608765"
      ]
     },
     "execution_count": 30,
     "metadata": {},
     "output_type": "execute_result"
    }
   ],
   "source": [
    "# Another way\n",
    "statistics.mean(last_5_epochs_accuracy)"
   ]
  },
  {
   "cell_type": "code",
   "execution_count": null,
   "id": "58b8f29a-dfc1-4cc6-90ae-c372e37b5589",
   "metadata": {},
   "outputs": [],
   "source": []
  }
 ],
 "metadata": {
  "kernelspec": {
   "display_name": "saturn (Python 3)",
   "language": "python",
   "name": "python3"
  },
  "language_info": {
   "codemirror_mode": {
    "name": "ipython",
    "version": 3
   },
   "file_extension": ".py",
   "mimetype": "text/x-python",
   "name": "python",
   "nbconvert_exporter": "python",
   "pygments_lexer": "ipython3",
   "version": "3.12.7"
  }
 },
 "nbformat": 4,
 "nbformat_minor": 5
}
