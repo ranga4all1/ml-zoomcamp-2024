{
 "cells": [
  {
   "cell_type": "markdown",
   "id": "55d25840-22f1-474b-ad17-59d37543208b",
   "metadata": {},
   "source": [
    "## Load and use saved tf model"
   ]
  },
  {
   "cell_type": "code",
   "execution_count": 1,
   "id": "55dd9d68-91ca-4980-9fb7-fd50bb630909",
   "metadata": {},
   "outputs": [],
   "source": [
    "#!wget https://github.com/DataTalksClub/machine-learning-zoomcamp/releases/download/chapter7-model/xception_v4_large_08_0.894.h5 -O clothing-model.h5"
   ]
  },
  {
   "cell_type": "code",
   "execution_count": 2,
   "id": "60cfedb2-3bfd-402e-b7ee-a6cc793a6b3f",
   "metadata": {},
   "outputs": [
    {
     "name": "stdout",
     "output_type": "stream",
     "text": [
      "Python 3.12.3\n"
     ]
    }
   ],
   "source": [
    "! python -V"
   ]
  },
  {
   "cell_type": "code",
   "execution_count": 1,
   "id": "54c84cc0-5200-46fd-9b56-dcd4a8805374",
   "metadata": {},
   "outputs": [
    {
     "ename": "ModuleNotFoundError",
     "evalue": "No module named 'numpy'",
     "output_type": "error",
     "traceback": [
      "\u001b[0;31m---------------------------------------------------------------------------\u001b[0m",
      "\u001b[0;31mModuleNotFoundError\u001b[0m                       Traceback (most recent call last)",
      "Cell \u001b[0;32mIn[1], line 1\u001b[0m\n\u001b[0;32m----> 1\u001b[0m \u001b[38;5;28;01mimport\u001b[39;00m \u001b[38;5;21;01mnumpy\u001b[39;00m \u001b[38;5;28;01mas\u001b[39;00m \u001b[38;5;21;01mnp\u001b[39;00m\n\u001b[1;32m      3\u001b[0m \u001b[38;5;28;01mimport\u001b[39;00m \u001b[38;5;21;01mtensorflow\u001b[39;00m \u001b[38;5;28;01mas\u001b[39;00m \u001b[38;5;21;01mtf\u001b[39;00m\n\u001b[1;32m      4\u001b[0m \u001b[38;5;28;01mfrom\u001b[39;00m \u001b[38;5;21;01mtensorflow\u001b[39;00m \u001b[38;5;28;01mimport\u001b[39;00m keras\n",
      "\u001b[0;31mModuleNotFoundError\u001b[0m: No module named 'numpy'"
     ]
    }
   ],
   "source": [
    "import numpy as np\n",
    "\n",
    "import tensorflow as tf\n",
    "from tensorflow import keras\n",
    "\n",
    "tf.__version__"
   ]
  },
  {
   "cell_type": "code",
   "execution_count": null,
   "id": "42a96ef3-5a54-44aa-8628-05da2b3bf550",
   "metadata": {},
   "outputs": [],
   "source": [
    "#!wget http://bit.ly/mlbookcamp-pants -O pants.jpg"
   ]
  },
  {
   "cell_type": "code",
   "execution_count": null,
   "id": "00972c55-4189-49fd-87b9-cf59fe79a692",
   "metadata": {},
   "outputs": [],
   "source": [
    "# from tensorflow.keras.preprocessing.image import load_img\n",
    "from tensorflow.keras.utils import load_img \n",
    "from tensorflow.keras.applications.xception import preprocess_input\n",
    "from PIL import Image"
   ]
  },
  {
   "cell_type": "code",
   "execution_count": null,
   "id": "8348b71d-76a8-4948-9570-ffb44821117e",
   "metadata": {},
   "outputs": [],
   "source": [
    "model = keras.models.load_model('../../08-deep-learning/xception_v4_1_16_0.894.h5.keras')"
   ]
  },
  {
   "cell_type": "code",
   "execution_count": null,
   "id": "6f7b16ef-28a8-4cac-a4d8-c0707b7ee1d5",
   "metadata": {},
   "outputs": [],
   "source": [
    "load_img('pants.jpg')"
   ]
  },
  {
   "cell_type": "code",
   "execution_count": null,
   "id": "e8698762-40c4-4d9e-ac7b-756930ae8a39",
   "metadata": {},
   "outputs": [],
   "source": [
    "img = load_img('pants.jpg', target_size=(299, 299))\n",
    "\n",
    "# x = np.array(img)\n",
    "# X = np.array([x])\n",
    "\n",
    "# X = preprocess_input(X)"
   ]
  },
  {
   "cell_type": "code",
   "execution_count": null,
   "id": "d539022a-f430-4500-b374-e77832d70bb7",
   "metadata": {},
   "outputs": [],
   "source": []
  }
 ],
 "metadata": {
  "kernelspec": {
   "display_name": "Python 3 (ipykernel)",
   "language": "python",
   "name": "python3"
  },
  "language_info": {
   "codemirror_mode": {
    "name": "ipython",
    "version": 3
   },
   "file_extension": ".py",
   "mimetype": "text/x-python",
   "name": "python",
   "nbconvert_exporter": "python",
   "pygments_lexer": "ipython3",
   "version": "3.12.1"
  }
 },
 "nbformat": 4,
 "nbformat_minor": 5
}
