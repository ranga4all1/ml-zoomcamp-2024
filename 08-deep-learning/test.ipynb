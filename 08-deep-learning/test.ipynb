{
 "cells": [
  {
   "cell_type": "code",
   "execution_count": 1,
   "id": "d13b3e01-04ce-4334-ac9f-ed20c6f379ed",
   "metadata": {
    "execution": {
     "iopub.execute_input": "2024-12-04T02:23:32.159559Z",
     "iopub.status.busy": "2024-12-04T02:23:32.159223Z",
     "iopub.status.idle": "2024-12-04T02:23:41.359396Z",
     "shell.execute_reply": "2024-12-04T02:23:41.358788Z",
     "shell.execute_reply.started": "2024-12-04T02:23:32.159535Z"
    }
   },
   "outputs": [
    {
     "name": "stderr",
     "output_type": "stream",
     "text": [
      "2024-12-04 02:23:32.499849: I tensorflow/core/util/port.cc:153] oneDNN custom operations are on. You may see slightly different numerical results due to floating-point round-off errors from different computation orders. To turn them off, set the environment variable `TF_ENABLE_ONEDNN_OPTS=0`.\n",
      "2024-12-04 02:23:32.516122: E external/local_xla/xla/stream_executor/cuda/cuda_fft.cc:477] Unable to register cuFFT factory: Attempting to register factory for plugin cuFFT when one has already been registered\n",
      "WARNING: All log messages before absl::InitializeLog() is called are written to STDERR\n",
      "E0000 00:00:1733279012.532868     930 cuda_dnn.cc:8310] Unable to register cuDNN factory: Attempting to register factory for plugin cuDNN when one has already been registered\n",
      "E0000 00:00:1733279012.537740     930 cuda_blas.cc:1418] Unable to register cuBLAS factory: Attempting to register factory for plugin cuBLAS when one has already been registered\n",
      "2024-12-04 02:23:32.555604: I tensorflow/core/platform/cpu_feature_guard.cc:210] This TensorFlow binary is optimized to use available CPU instructions in performance-critical operations.\n",
      "To enable the following instructions: AVX2 AVX512F AVX512_VNNI FMA, in other operations, rebuild TensorFlow with the appropriate compiler flags.\n"
     ]
    }
   ],
   "source": [
    "import tensorflow as tf"
   ]
  },
  {
   "cell_type": "code",
   "execution_count": 3,
   "id": "71026253-43d1-45be-ba97-3fdf532c5bc4",
   "metadata": {
    "execution": {
     "iopub.execute_input": "2024-12-04T02:23:50.520687Z",
     "iopub.status.busy": "2024-12-04T02:23:50.520354Z",
     "iopub.status.idle": "2024-12-04T02:23:50.526777Z",
     "shell.execute_reply": "2024-12-04T02:23:50.526261Z",
     "shell.execute_reply.started": "2024-12-04T02:23:50.520663Z"
    }
   },
   "outputs": [
    {
     "data": {
      "text/plain": [
       "'2.18.0'"
      ]
     },
     "execution_count": 3,
     "metadata": {},
     "output_type": "execute_result"
    }
   ],
   "source": [
    "tf.__version__"
   ]
  },
  {
   "cell_type": "code",
   "execution_count": null,
   "id": "fbf5d3eb-c602-41a7-ab5b-e0e485ff5cc9",
   "metadata": {},
   "outputs": [],
   "source": []
  }
 ],
 "metadata": {
  "kernelspec": {
   "display_name": "saturn (Python 3)",
   "language": "python",
   "name": "python3"
  },
  "language_info": {
   "codemirror_mode": {
    "name": "ipython",
    "version": 3
   },
   "file_extension": ".py",
   "mimetype": "text/x-python",
   "name": "python",
   "nbconvert_exporter": "python",
   "pygments_lexer": "ipython3",
   "version": "3.12.7"
  }
 },
 "nbformat": 4,
 "nbformat_minor": 5
}
